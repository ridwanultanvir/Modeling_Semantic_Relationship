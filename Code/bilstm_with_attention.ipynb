{
  "cells": [
    {
      "cell_type": "code",
      "execution_count": null,
      "metadata": {
        "colab": {
          "base_uri": "https://localhost:8080/"
        },
        "id": "qtutWecKY_RO",
        "outputId": "58c41a3f-0750-43e7-ebca-18b4dc15df77"
      },
      "outputs": [],
      "source": []
    },
    {
      "cell_type": "markdown",
      "metadata": {},
      "source": [
        "### Installation"
      ]
    },
    {
      "cell_type": "code",
      "execution_count": null,
      "metadata": {
        "colab": {
          "base_uri": "https://localhost:8080/"
        },
        "id": "omLxjFlPZAFX",
        "outputId": "e148252f-05d3-472c-ec2e-f091a87ee2f5"
      },
      "outputs": [],
      "source": [
        "# !pip install torch torchvision torchaudio\n",
        "# !pip install nltk tqdm\n",
        "# !pip install datasets\n",
        "# !pip install torchtext"
      ]
    },
    {
      "cell_type": "code",
      "execution_count": null,
      "metadata": {
        "colab": {
          "base_uri": "https://localhost:8080/"
        },
        "id": "-ru6adztZBA3",
        "outputId": "59e4f903-a1a9-4b5f-d45e-dfcaf6d78e63"
      },
      "outputs": [],
      "source": []
    },
    {
      "cell_type": "markdown",
      "metadata": {
        "id": "nr-2ewImaChk"
      },
      "source": [
        "## Load and Explore the SNLI Dataset"
      ]
    },
    {
      "cell_type": "code",
      "execution_count": 4,
      "metadata": {
        "colab": {
          "base_uri": "https://localhost:8080/"
        },
        "id": "17m-06X5aA6D",
        "outputId": "618d6de8-d084-4c19-99c9-96683eab283d"
      },
      "outputs": [
        {
          "name": "stderr",
          "output_type": "stream",
          "text": [
            "[nltk_data] Downloading package punkt to /scratch/rpt5409/nltk_data...\n",
            "[nltk_data]   Package punkt is already up-to-date!\n"
          ]
        },
        {
          "data": {
            "text/plain": [
              "True"
            ]
          },
          "execution_count": 4,
          "metadata": {},
          "output_type": "execute_result"
        }
      ],
      "source": [
        "import torch\n",
        "import numpy as np\n",
        "import pandas as pd\n",
        "import matplotlib.pyplot as plt\n",
        "import seaborn as sns\n",
        "from datasets import load_dataset\n",
        "import nltk\n",
        "import re\n",
        "from nltk.tokenize import word_tokenize\n",
        "from collections import Counter\n",
        "nltk.download(\"punkt\")\n"
      ]
    },
    {
      "cell_type": "code",
      "execution_count": 5,
      "metadata": {
        "colab": {
          "base_uri": "https://localhost:8080/",
          "height": 557,
          "referenced_widgets": [
            "e771ebd4dfe34631b74dfbb0c790e5b7",
            "b0fee5d2def54b82aed15151ff3eee74",
            "b21dbe4b0b3f4316a556a48023c7ef85",
            "9e79da4e8e5146d99080c2cc7a82b74e",
            "7e933f689bca4829a9947ac6496337f2",
            "0cf7cf481d514ecea0872fbb6ff21382",
            "f768aebecf6249f9b8dea2c16f591f99",
            "d02b39c89bf64d1a8be019dae1f5e487",
            "056bb42c571b40b28bfa07f3bdd8fdf9",
            "239bf4f8bd76431b94a420b2a19aeac6",
            "d7c826c0dbab4d3aa99349b3cf01882c",
            "8d8d827040ae478cab280da9a6d3fc43",
            "565e528778ed4c309650a7c24e192fdd",
            "21e7a870d4cd40d8a8afb44ba7c13d57",
            "cb8351782cb84fff8389c4148f0a4e4e",
            "42793cae249a4c05bae3ef4e5c7fd895",
            "2dc33d910c9146d2ab4a46a718ca79da",
            "3cf900324e3549a19178f3eec8e5a4dc",
            "ca956e9ee7bd46868adda0cc17f16c12",
            "1b869bb3c25b4f3daf878afbb3bfe5a6",
            "62e687b796c44adf9c78bf1db7a60250",
            "261a924ec2934bb38a405081ddf89517",
            "68d5f663ab7f4de5a57a3f108268facb",
            "f00c1664f1c54002aa7717005e41964a",
            "4fe73aaa532a48df9af96ae917b2f708",
            "1c8a2f46fd154f26a9a2d0e48c85fb55",
            "655a185c97314d768449c1b80957d310",
            "d959417105574a6d8e6423109805ef54",
            "1743c389a8354ccbbd0f9553ff88c987",
            "b47878c7580143b196e2299cde905cbd",
            "500a530fc15845a3906d4b3aaeb57275",
            "02105f64848446dc81d3a9b4a507b08d",
            "12cd1737abc64eb18ee67f53e3861518",
            "9ac654c27be5419e8be5bf971c7c18bf",
            "c722c87a22814dcd9872c5dc1b3f688b",
            "bfb1a6140b164092bfca68ec44145275",
            "48b8719edb14420aaba1f0df89434389",
            "48632ed4c77f4c709eb3723882379875",
            "ee2cd81825544f20af0d2350d52ad6b9",
            "38be572e18734509ac8f2883bf46a27a",
            "c6a1f5ac16634298b31d9f01478b0736",
            "59dfeefd5f0f41b3bec6b8622480b323",
            "4d5e8cc912a94d84a577c76ce23d1634",
            "524383ba2f1b462294086f720e7b906c",
            "18dacea6aea9431c81b5f10a0264daa9",
            "104f5add5b45469298fec350684ca932",
            "f1a0455550124afcbfd455e0fcf7bfec",
            "6e9380ca8f4844238855d6346b2d4af1",
            "58eaf22cc9ec49d88edf4ec93f01102d",
            "fc336c5173e64fb582331d9514f2a95c",
            "e0b831d5bdcd412b89b20fd15dda013e",
            "db8faf5ff5024fca938c3314b277c8f3",
            "59a1fe5a2d6a48e7b488bae1f938b02a",
            "ffeaedfedcbd40b2865073f3b99f44bd",
            "ccc30458051c479aa7b9b05ad0f42459",
            "dddffca84d8448b89795e302f4d620d1",
            "0421b3f2c25148f1b2a2e85b6c041d19",
            "92715c5f41a3451780c7ce0535f76400",
            "53f6196803074243b898f0a83a42677c",
            "e6cd47058da3458ab01098f40d609020",
            "86e6587780c9427799f06740d804cb76",
            "88adebec14d74bbfab7510fe8a84e896",
            "47bc84f0151742a2a84099771007b90d",
            "329a1421cbd647209772abeaeef4f81c",
            "e4ae607d87e34cddaface6da924a43d9",
            "14c4efdffb64472f8c8de622d6d145b8",
            "740075e1edb3435bab7d4531ed3be4b6",
            "54ab665cb9ae44a68ea31557cac360ab",
            "0576a218ef2743d4b66528d2d9ea9177",
            "d82aa0f63fba4e18b35f0c7d10eeee15",
            "763a1867eee54f588129dd42e04dd207",
            "dd809ff0d4c748ad952a89a9f2b750df",
            "99174f667b474fc294074b579ed1225c",
            "05df96fc2b3b43f68347a215ae1b9242",
            "1fb83d56e7a84f23a972686dc0b2d978",
            "36e6502b95e94d0393dc3956aa25171e",
            "beb1d4de071a44b2af191403a6784680"
          ]
        },
        "id": "4IC1GiN_aBg4",
        "outputId": "9f102734-6b69-4798-ea7a-e0117874c27b"
      },
      "outputs": [
        {
          "data": {
            "text/html": [
              "<div>\n",
              "<style scoped>\n",
              "    .dataframe tbody tr th:only-of-type {\n",
              "        vertical-align: middle;\n",
              "    }\n",
              "\n",
              "    .dataframe tbody tr th {\n",
              "        vertical-align: top;\n",
              "    }\n",
              "\n",
              "    .dataframe thead th {\n",
              "        text-align: right;\n",
              "    }\n",
              "</style>\n",
              "<table border=\"1\" class=\"dataframe\">\n",
              "  <thead>\n",
              "    <tr style=\"text-align: right;\">\n",
              "      <th></th>\n",
              "      <th>premise</th>\n",
              "      <th>hypothesis</th>\n",
              "      <th>label</th>\n",
              "    </tr>\n",
              "  </thead>\n",
              "  <tbody>\n",
              "    <tr>\n",
              "      <th>0</th>\n",
              "      <td>A person on a horse jumps over a broken down a...</td>\n",
              "      <td>A person is training his horse for a competition.</td>\n",
              "      <td>1</td>\n",
              "    </tr>\n",
              "    <tr>\n",
              "      <th>1</th>\n",
              "      <td>A person on a horse jumps over a broken down a...</td>\n",
              "      <td>A person is at a diner, ordering an omelette.</td>\n",
              "      <td>2</td>\n",
              "    </tr>\n",
              "    <tr>\n",
              "      <th>2</th>\n",
              "      <td>A person on a horse jumps over a broken down a...</td>\n",
              "      <td>A person is outdoors, on a horse.</td>\n",
              "      <td>0</td>\n",
              "    </tr>\n",
              "    <tr>\n",
              "      <th>3</th>\n",
              "      <td>Children smiling and waving at camera</td>\n",
              "      <td>They are smiling at their parents</td>\n",
              "      <td>1</td>\n",
              "    </tr>\n",
              "    <tr>\n",
              "      <th>4</th>\n",
              "      <td>Children smiling and waving at camera</td>\n",
              "      <td>There are children present</td>\n",
              "      <td>0</td>\n",
              "    </tr>\n",
              "  </tbody>\n",
              "</table>\n",
              "</div>"
            ],
            "text/plain": [
              "                                             premise  \\\n",
              "0  A person on a horse jumps over a broken down a...   \n",
              "1  A person on a horse jumps over a broken down a...   \n",
              "2  A person on a horse jumps over a broken down a...   \n",
              "3              Children smiling and waving at camera   \n",
              "4              Children smiling and waving at camera   \n",
              "\n",
              "                                          hypothesis  label  \n",
              "0  A person is training his horse for a competition.      1  \n",
              "1      A person is at a diner, ordering an omelette.      2  \n",
              "2                  A person is outdoors, on a horse.      0  \n",
              "3                  They are smiling at their parents      1  \n",
              "4                         There are children present      0  "
            ]
          },
          "execution_count": 5,
          "metadata": {},
          "output_type": "execute_result"
        }
      ],
      "source": [
        "# Load the dataset\n",
        "dataset = load_dataset(\"snli\")\n",
        "\n",
        "# Convert to Pandas DataFrame for exploration\n",
        "df_train = pd.DataFrame(dataset[\"train\"])\n",
        "df_val = pd.DataFrame(dataset[\"validation\"])\n",
        "df_test = pd.DataFrame(dataset[\"test\"])\n",
        "\n",
        "# Show sample data\n",
        "df_train.head()\n"
      ]
    },
    {
      "cell_type": "code",
      "execution_count": 6,
      "metadata": {
        "colab": {
          "base_uri": "https://localhost:8080/",
          "height": 206
        },
        "id": "rBjOhNXmZBT1",
        "outputId": "762c479d-57c5-481a-d9d7-76dffad72ea7"
      },
      "outputs": [
        {
          "data": {
            "text/html": [
              "<div>\n",
              "<style scoped>\n",
              "    .dataframe tbody tr th:only-of-type {\n",
              "        vertical-align: middle;\n",
              "    }\n",
              "\n",
              "    .dataframe tbody tr th {\n",
              "        vertical-align: top;\n",
              "    }\n",
              "\n",
              "    .dataframe thead th {\n",
              "        text-align: right;\n",
              "    }\n",
              "</style>\n",
              "<table border=\"1\" class=\"dataframe\">\n",
              "  <thead>\n",
              "    <tr style=\"text-align: right;\">\n",
              "      <th></th>\n",
              "      <th>premise</th>\n",
              "      <th>hypothesis</th>\n",
              "      <th>label</th>\n",
              "    </tr>\n",
              "  </thead>\n",
              "  <tbody>\n",
              "    <tr>\n",
              "      <th>550147</th>\n",
              "      <td>Four dirty and barefooted children.</td>\n",
              "      <td>four kids won awards for 'cleanest feet'</td>\n",
              "      <td>2</td>\n",
              "    </tr>\n",
              "    <tr>\n",
              "      <th>550148</th>\n",
              "      <td>Four dirty and barefooted children.</td>\n",
              "      <td>four homeless children had their shoes stolen,...</td>\n",
              "      <td>1</td>\n",
              "    </tr>\n",
              "    <tr>\n",
              "      <th>550149</th>\n",
              "      <td>A man is surfing in a bodysuit in beautiful bl...</td>\n",
              "      <td>A man in a bodysuit is competing in a surfing ...</td>\n",
              "      <td>1</td>\n",
              "    </tr>\n",
              "    <tr>\n",
              "      <th>550150</th>\n",
              "      <td>A man is surfing in a bodysuit in beautiful bl...</td>\n",
              "      <td>A man in a business suit is heading to a board...</td>\n",
              "      <td>2</td>\n",
              "    </tr>\n",
              "    <tr>\n",
              "      <th>550151</th>\n",
              "      <td>A man is surfing in a bodysuit in beautiful bl...</td>\n",
              "      <td>On the beautiful blue water there is a man in ...</td>\n",
              "      <td>0</td>\n",
              "    </tr>\n",
              "  </tbody>\n",
              "</table>\n",
              "</div>"
            ],
            "text/plain": [
              "                                                  premise  \\\n",
              "550147                Four dirty and barefooted children.   \n",
              "550148                Four dirty and barefooted children.   \n",
              "550149  A man is surfing in a bodysuit in beautiful bl...   \n",
              "550150  A man is surfing in a bodysuit in beautiful bl...   \n",
              "550151  A man is surfing in a bodysuit in beautiful bl...   \n",
              "\n",
              "                                               hypothesis  label  \n",
              "550147           four kids won awards for 'cleanest feet'      2  \n",
              "550148  four homeless children had their shoes stolen,...      1  \n",
              "550149  A man in a bodysuit is competing in a surfing ...      1  \n",
              "550150  A man in a business suit is heading to a board...      2  \n",
              "550151  On the beautiful blue water there is a man in ...      0  "
            ]
          },
          "execution_count": 6,
          "metadata": {},
          "output_type": "execute_result"
        }
      ],
      "source": [
        "df_train.tail()"
      ]
    },
    {
      "cell_type": "code",
      "execution_count": 7,
      "metadata": {
        "colab": {
          "base_uri": "https://localhost:8080/"
        },
        "id": "IgxJSDUvaR_2",
        "outputId": "fb17e930-f02b-4c3b-f5b5-ca76f324906b"
      },
      "outputs": [
        {
          "name": "stdout",
          "output_type": "stream",
          "text": [
            "premise:A person on a horse jumps over a broken down airplane.\n",
            "hypothesis:A person is training his horse for a competition.\n",
            "label:1\n",
            "===============================\n",
            "premise:A person on a horse jumps over a broken down airplane.\n",
            "hypothesis:A person is at a diner, ordering an omelette.\n",
            "label:2\n",
            "===============================\n",
            "premise:A person on a horse jumps over a broken down airplane.\n",
            "hypothesis:A person is outdoors, on a horse.\n",
            "label:0\n",
            "===============================\n",
            "premise:Children smiling and waving at camera\n",
            "hypothesis:They are smiling at their parents\n",
            "label:1\n",
            "===============================\n",
            "premise:Children smiling and waving at camera\n",
            "hypothesis:There are children present\n",
            "label:0\n",
            "===============================\n"
          ]
        }
      ],
      "source": [
        "# prompt: df_train : 0th index print; each separate .... df_train.iloc[0][\"premise\"]\n",
        "if len(df_train) > 5:\n",
        "  for i in range(5):\n",
        "      print(\"premise:\", end=\"\")\n",
        "      print(df_train.iloc[i][\"premise\"])\n",
        "      print(\"hypothesis:\", end=\"\")\n",
        "      print(df_train.iloc[i][\"hypothesis\"])\n",
        "      print(\"label:\", end=\"\")\n",
        "      print(df_train.iloc[i][\"label\"])\n",
        "      print(\"===============================\")\n"
      ]
    },
    {
      "cell_type": "markdown",
      "metadata": {
        "id": "5JzbAM3oaxUO"
      },
      "source": [
        "0: \"Entailment\", 1: \"Contradiction\", 2: \"Neutral\""
      ]
    },
    {
      "cell_type": "markdown",
      "metadata": {
        "id": "k4us1udI6oPB"
      },
      "source": [
        "# Check Data Distribution\n",
        "What We Check\n",
        "Label distribution: Are classes balanced?\n",
        "\n",
        "Text length: Helps decide padding length."
      ]
    },
    {
      "cell_type": "markdown",
      "metadata": {
        "id": "SR0uBuGQA1Fz"
      },
      "source": [
        "### If we keep, unlabeled data then what is the distribution"
      ]
    },
    {
      "cell_type": "code",
      "execution_count": 8,
      "metadata": {
        "colab": {
          "base_uri": "https://localhost:8080/",
          "height": 525
        },
        "id": "0xmp_r7w7DI6",
        "outputId": "5aabe0ec-0a5c-4e40-cebf-88a9e258e021"
      },
      "outputs": [
        {
          "name": "stderr",
          "output_type": "stream",
          "text": [
            "/tmp/ipykernel_602666/1155726302.py:21: FutureWarning: \n",
            "\n",
            "Passing `palette` without assigning `hue` is deprecated and will be removed in v0.14.0. Assign the `x` variable to `hue` and set `legend=False` for the same effect.\n",
            "\n",
            "  ax = sns.barplot(x=label_counts.index, y=label_counts.values, hue=None, palette=\"viridis\")\n"
          ]
        },
        {
          "data": {
            "image/png": "[encoded data removed]",
            "text/plain": [
              "<Figure size 600x400 with 1 Axes>"
            ]
          },
          "metadata": {},
          "output_type": "display_data"
        }
      ],
      "source": [
        "import matplotlib.pyplot as plt\n",
        "import pandas as pd\n",
        "import nltk\n",
        "from nltk.tokenize import word_tokenize\n",
        "from datasets import load_dataset\n",
        "\n",
        "# Load SNLI dataset\n",
        "dataset = load_dataset(\"snli\")\n",
        "df_train = pd.DataFrame(dataset[\"train\"])\n",
        "\n",
        "# Assuming df_train is already loaded\n",
        "# Define label mapping (including -1 as \"Unlabeled\")\n",
        "label_names = {0: \"Entailment\", 1: \"Neutral\", 2: \"Contradiction\", -1: \"Unlabeled\"}\n",
        "df_train[\"label_text\"] = df_train[\"label\"].map(label_names)\n",
        "\n",
        "# Compute label distribution\n",
        "label_counts = df_train[\"label_text\"].value_counts(normalize=True) * 100  # Convert to percentages\n",
        "\n",
        "# Create bar plot\n",
        "plt.figure(figsize=(6, 4))\n",
        "ax = sns.barplot(x=label_counts.index, y=label_counts.values, hue=None, palette=\"viridis\")\n",
        "\n",
        "# Fix text positioning and font size\n",
        "for i, v in enumerate(label_counts.values):\n",
        "    ax.text(i, v + 1, f\"{v:.1f}%\", ha='center', fontsize=12, fontweight=\"bold\")\n",
        "\n",
        "# Final formatting\n",
        "plt.title(\"Label Distribution in SNLI Dataset (Including Unlabeled)\", fontsize=14, fontweight=\"bold\")\n",
        "plt.xlabel(\"Class\", fontsize=12)\n",
        "plt.ylabel(\"Percentage (%)\", fontsize=12)\n",
        "plt.ylim(0, max(label_counts.values) + 5)  # Add padding for better readability\n",
        "plt.show()\n"
      ]
    },
    {
      "cell_type": "code",
      "execution_count": 9,
      "metadata": {
        "colab": {
          "base_uri": "https://localhost:8080/"
        },
        "id": "LC4jqvPw-gCx",
        "outputId": "a65aa511-516a-4fcf-d9ec-1c7d9373bc05"
      },
      "outputs": [
        {
          "name": "stdout",
          "output_type": "stream",
          "text": [
            "[ 1  2  0 -1]\n"
          ]
        }
      ],
      "source": [
        "\n",
        "print(df_train[\"label\"].unique())\n"
      ]
    },
    {
      "cell_type": "markdown",
      "metadata": {
        "id": "RMAovCYW_c4T"
      },
      "source": [
        "## Removing unlabeled data"
      ]
    },
    {
      "cell_type": "code",
      "execution_count": 10,
      "metadata": {
        "id": "O4mkRrj7-gFX"
      },
      "outputs": [],
      "source": [
        "# Remove invalid labels (-1)\n",
        "df_train = df_train[df_train[\"label\"] != -1]"
      ]
    },
    {
      "cell_type": "code",
      "execution_count": 11,
      "metadata": {
        "colab": {
          "base_uri": "https://localhost:8080/"
        },
        "id": "5j8iW1gK9gqh",
        "outputId": "18e6d364-44d5-41eb-f20a-bda301a59ec4"
      },
      "outputs": [
        {
          "name": "stderr",
          "output_type": "stream",
          "text": [
            "[nltk_data] Downloading package punkt_tab to\n",
            "[nltk_data]     /scratch/rpt5409/nltk_data...\n",
            "[nltk_data]   Package punkt_tab is already up-to-date!\n"
          ]
        }
      ],
      "source": [
        "# Define label mapping\n",
        "label_names = {0: \"Entailment\", 1: \"Neutral\", 2: \"Contradiction\"}\n",
        "df_train[\"label_text\"] = df_train[\"label\"].map(label_names)\n",
        "\n",
        "# Compute sentence lengths\n",
        "nltk.download(\"punkt_tab\")\n",
        "df_train[\"premise_length\"] = df_train[\"premise\"].apply(lambda x: len(word_tokenize(x)))\n",
        "df_train[\"hypothesis_length\"] = df_train[\"hypothesis\"].apply(lambda x: len(word_tokenize(x)))\n",
        "\n"
      ]
    },
    {
      "cell_type": "code",
      "execution_count": 12,
      "metadata": {
        "colab": {
          "base_uri": "https://localhost:8080/",
          "height": 492
        },
        "id": "IKs_UIF9-UFn",
        "outputId": "e9698487-aab5-4f15-ec13-cea78847f7ec"
      },
      "outputs": [
        {
          "data": {
            "image/png": "[encoded data removed]",
            "text/plain": [
              "<Figure size 800x500 with 1 Axes>"
            ]
          },
          "metadata": {},
          "output_type": "display_data"
        }
      ],
      "source": [
        "# Plot 1: Premise Length Distribution\n",
        "plt.figure(figsize=(8, 5))\n",
        "sns.histplot(df_train[\"premise_length\"], bins=50, kde=True, color=\"blue\")\n",
        "plt.title(\"Premise Length Distribution\", fontsize=14, fontweight=\"bold\")\n",
        "plt.xlabel(\"Number of Words\", fontsize=12)\n",
        "plt.ylabel(\"Frequency\", fontsize=12)\n",
        "plt.show()\n",
        "\n"
      ]
    },
    {
      "cell_type": "code",
      "execution_count": 13,
      "metadata": {
        "colab": {
          "base_uri": "https://localhost:8080/",
          "height": 492
        },
        "id": "RsaQfZtn-UYY",
        "outputId": "1a094879-faf9-4507-85b0-e1c14a94c1e7"
      },
      "outputs": [
        {
          "data": {
            "image/png": "[encoded data removed]",
            "text/plain": [
              "<Figure size 800x500 with 1 Axes>"
            ]
          },
          "metadata": {},
          "output_type": "display_data"
        }
      ],
      "source": [
        "# Plot 2: Hypothesis Length Distribution\n",
        "plt.figure(figsize=(8, 5))\n",
        "sns.histplot(df_train[\"hypothesis_length\"], bins=50, kde=True, color=\"red\")\n",
        "plt.title(\"Hypothesis Length Distribution\", fontsize=14, fontweight=\"bold\")\n",
        "plt.xlabel(\"Number of Words\", fontsize=12)\n",
        "plt.ylabel(\"Frequency\", fontsize=12)\n",
        "plt.show()\n",
        "\n"
      ]
    },
    {
      "cell_type": "code",
      "execution_count": 14,
      "metadata": {
        "colab": {
          "base_uri": "https://localhost:8080/",
          "height": 525
        },
        "id": "Wjuxe7Al-VEU",
        "outputId": "417c4dc3-747b-4904-bb4c-50f7953ca41b"
      },
      "outputs": [
        {
          "name": "stderr",
          "output_type": "stream",
          "text": [
            "/tmp/ipykernel_602666/2033641802.py:4: FutureWarning: \n",
            "\n",
            "Passing `palette` without assigning `hue` is deprecated and will be removed in v0.14.0. Assign the `x` variable to `hue` and set `legend=False` for the same effect.\n",
            "\n",
            "  ax = sns.barplot(x=label_counts.index, y=label_counts.values, hue=None, palette=\"viridis\")\n"
          ]
        },
        {
          "data": {
            "image/png": "[encoded data removed]",
            "text/plain": [
              "<Figure size 600x400 with 1 Axes>"
            ]
          },
          "metadata": {},
          "output_type": "display_data"
        }
      ],
      "source": [
        "# Plot 3: Label Distribution (Percentage Bar Chart)\n",
        "label_counts = df_train[\"label_text\"].value_counts(normalize=True) * 100  # Convert to percentages\n",
        "plt.figure(figsize=(6, 4))\n",
        "ax = sns.barplot(x=label_counts.index, y=label_counts.values, hue=None, palette=\"viridis\")\n",
        "\n",
        "# Fix text positioning and font size\n",
        "for i, v in enumerate(label_counts.values):\n",
        "    ax.text(i, v + 1, f\"{v:.1f}%\", ha='center', fontsize=12, fontweight=\"bold\")\n",
        "\n",
        "# Final formatting\n",
        "plt.title(\"Label Distribution in SNLI Dataset\", fontsize=14, fontweight=\"bold\")\n",
        "plt.xlabel(\"Class\", fontsize=12)\n",
        "plt.ylabel(\"Percentage (%)\", fontsize=12)\n",
        "plt.ylim(0, max(label_counts.values) + 5)  # Add padding for better readability\n",
        "plt.show()"
      ]
    },
    {
      "cell_type": "code",
      "execution_count": null,
      "metadata": {
        "id": "KwcLjvzFAQ6j"
      },
      "outputs": [],
      "source": [
        "\n"
      ]
    },
    {
      "cell_type": "code",
      "execution_count": null,
      "metadata": {
        "id": "jijz2UezAQ9n"
      },
      "outputs": [],
      "source": []
    },
    {
      "cell_type": "code",
      "execution_count": 15,
      "metadata": {
        "colab": {
          "base_uri": "https://localhost:8080/",
          "height": 304
        },
        "id": "GoNztdqwADil",
        "outputId": "23503fa7-010d-4691-eb41-a22875a9b5ec"
      },
      "outputs": [
        {
          "name": "stderr",
          "output_type": "stream",
          "text": [
            "[nltk_data] Downloading package punkt to /scratch/rpt5409/nltk_data...\n",
            "[nltk_data]   Package punkt is already up-to-date!\n"
          ]
        },
        {
          "data": {
            "image/png": "[encoded data removed]",
            "text/plain": [
              "<Figure size 600x300 with 1 Axes>"
            ]
          },
          "metadata": {},
          "output_type": "display_data"
        }
      ],
      "source": [
        "import matplotlib.pyplot as plt\n",
        "import pandas as pd\n",
        "import nltk\n",
        "from nltk.tokenize import word_tokenize\n",
        "from datasets import load_dataset\n",
        "\n",
        "# Load SNLI dataset\n",
        "dataset = load_dataset(\"snli\")\n",
        "df_train = pd.DataFrame(dataset[\"train\"])\n",
        "\n",
        "# Remove invalid labels (-1)\n",
        "df_train = df_train[df_train[\"label\"] != -1]\n",
        "\n",
        "# Compute sentence lengths\n",
        "nltk.download(\"punkt\")\n",
        "df_train[\"premise_length\"] = df_train[\"premise\"].apply(lambda x: len(word_tokenize(x)))\n",
        "df_train[\"hypothesis_length\"] = df_train[\"hypothesis\"].apply(lambda x: len(word_tokenize(x)))\n",
        "\n",
        "# Generate statistics\n",
        "total_samples = len(df_train)\n",
        "avg_premise_len = df_train[\"premise_length\"].mean()\n",
        "avg_hypothesis_len = df_train[\"hypothesis_length\"].mean()\n",
        "max_premise_len = df_train[\"premise_length\"].max()\n",
        "max_hypothesis_len = df_train[\"hypothesis_length\"].max()\n",
        "\n",
        "# Create a blank plot for text display\n",
        "fig, ax = plt.subplots(figsize=(6, 3))\n",
        "ax.axis(\"off\")  # Hide axes\n",
        "\n",
        "# Dataset summary text\n",
        "text_info = (\n",
        "    f\"Total Samples: {total_samples}\\n\"\n",
        "    f\"Avg Premise Length: {avg_premise_len:.1f} words\\n\"\n",
        "    f\"Avg Hypothesis Length: {avg_hypothesis_len:.1f} words\\n\"\n",
        "    f\"Max Premise Length: {max_premise_len} words\\n\"\n",
        "    f\"Max Hypothesis Length: {max_hypothesis_len} words\"\n",
        ")\n",
        "\n",
        "# Add text inside the plot with background color\n",
        "ax.text(0.5, 0.5, text_info, fontsize=12, verticalalignment=\"center\",\n",
        "        horizontalalignment=\"center\", bbox=dict(boxstyle=\"round\", facecolor=\"lightgrey\"))\n",
        "\n",
        "# Show the plot\n",
        "plt.show()\n"
      ]
    },
    {
      "cell_type": "code",
      "execution_count": 16,
      "metadata": {
        "colab": {
          "base_uri": "https://localhost:8080/"
        },
        "id": "IFCzMoHC2RpS",
        "outputId": "106924c7-5e10-46e5-fdaf-bab174f2c6dc"
      },
      "outputs": [
        {
          "name": "stdout",
          "output_type": "stream",
          "text": [
            "Total Samples: 549367\n",
            "Avg Premise Length: 14.0 words\n",
            "Avg Hypothesis Length: 8.3 words\n",
            "Max Premise Length: 82 words\n",
            "Max Hypothesis Length: 62 words\n"
          ]
        }
      ],
      "source": [
        "print(text_info)"
      ]
    },
    {
      "cell_type": "code",
      "execution_count": 22,
      "metadata": {},
      "outputs": [
        {
          "data": {
            "image/png": "[encoded data removed]",
            "text/plain": [
              "<Figure size 640x480 with 1 Axes>"
            ]
          },
          "metadata": {},
          "output_type": "display_data"
        }
      ],
      "source": [
        "# Data for bar chart (excluding \"Total Samples\")\n",
        "labels = [\"Avg Premise Length\", \"Avg Hypothesis Length\", \"Max Premise Length\", \"Max Hypothesis Length\"]\n",
        "\n",
        "avg_premise_len = df_train[\"premise_length\"].mean()\n",
        "avg_hypothesis_len = df_train[\"hypothesis_length\"].mean()\n",
        "max_premise_len = df_train[\"premise_length\"].max()\n",
        "max_hypothesis_len = df_train[\"hypothesis_length\"].max()\n",
        "\n",
        "values = [avg_premise_len, avg_hypothesis_len, max_premise_len, max_hypothesis_len]\n",
        "# Create bar chart\n",
        "# plt.figure(figsize=(8, 5))\n",
        "plt.bar(labels, values, color=[\"blue\", \"green\", \"red\", \"purple\"])\n",
        "\n",
        "# Add values on top of bars\n",
        "for i, v in enumerate(values):\n",
        "    plt.text(i, v + max(values) * 0.02, f\"{v:.1f}\", ha='center', fontsize=12, fontweight=\"bold\")\n",
        "\n",
        "# Formatting\n",
        "plt.title(\"SNLI Dataset Sentence Length Statistics\", fontsize=14, fontweight=\"bold\")\n",
        "plt.ylabel(\"Number of Words\", fontsize=12)\n",
        "plt.xticks(rotation=15)  # Rotate labels for readability\n",
        "\n",
        "# Show plot\n",
        "plt.show()"
      ]
    },
    {
      "cell_type": "code",
      "execution_count": 17,
      "metadata": {
        "id": "DrU-eO4O-VHN"
      },
      "outputs": [
        {
          "data": {
            "text/plain": [
              "549367"
            ]
          },
          "execution_count": 17,
          "metadata": {},
          "output_type": "execute_result"
        }
      ],
      "source": [
        "len(df_train)"
      ]
    },
    {
      "cell_type": "code",
      "execution_count": 18,
      "metadata": {},
      "outputs": [
        {
          "data": {
            "text/plain": [
              "10000"
            ]
          },
          "execution_count": 18,
          "metadata": {},
          "output_type": "execute_result"
        }
      ],
      "source": [
        "len(df_test)"
      ]
    },
    {
      "cell_type": "code",
      "execution_count": 19,
      "metadata": {},
      "outputs": [
        {
          "data": {
            "text/plain": [
              "10000"
            ]
          },
          "execution_count": 19,
          "metadata": {},
          "output_type": "execute_result"
        }
      ],
      "source": [
        "len(df_val)"
      ]
    },
    {
      "cell_type": "markdown",
      "metadata": {
        "id": "_gJrYHd03H90"
      },
      "source": [
        "### Step 3: Preprocess"
      ]
    },
    {
      "cell_type": "code",
      "execution_count": 23,
      "metadata": {
        "id": "8m0OXW-32Ani"
      },
      "outputs": [],
      "source": [
        "import re\n",
        "import nltk\n",
        "from nltk.tokenize import word_tokenize\n",
        "\n",
        "\n",
        "\n",
        "# Function to clean and tokenize text\n",
        "def preprocess_text(text):\n",
        "    text = text.lower().strip()  # Lowercasing and removing unnecessary spaces\n",
        "    text = re.sub(r\"[^a-zA-Z0-9\\s]\", \"\", text)  # Remove punctuation\n",
        "    return word_tokenize(text)  # Tokenize words\n",
        "\n",
        "# Function to preprocess SNLI dataset\n",
        "def preprocess_snli_data(df):\n",
        "    pairs, labels = [], []\n",
        "\n",
        "    # Define the correct label mapping\n",
        "    label_map = {0: \"Entailment\", 1: \"Neutral\", 2: \"Contradiction\"}  # Fixed mapping\n",
        "\n",
        "    for i, row in df.iterrows():\n",
        "        if row[\"label\"] != -1:  # Removing invalid labels (-1)\n",
        "            premise = preprocess_text(row[\"premise\"])\n",
        "            hypothesis = preprocess_text(row[\"hypothesis\"])\n",
        "            pairs.append((premise, hypothesis))\n",
        "            labels.append(row[\"label\"])\n",
        "\n",
        "    return pairs, labels\n"
      ]
    },
    {
      "cell_type": "code",
      "execution_count": 24,
      "metadata": {
        "id": "pEpvMQSe3qI1"
      },
      "outputs": [],
      "source": [
        "\n",
        "# Apply preprocessing to train, validation, and test sets\n",
        "df_train = df_train[df_train[\"label\"] != -1]  # Remove invalid labels\n",
        "df_val = df_val[df_val[\"label\"] != -1]\n",
        "df_test = df_test[df_test[\"label\"] != -1]\n",
        "\n"
      ]
    },
    {
      "cell_type": "code",
      "execution_count": 25,
      "metadata": {
        "colab": {
          "base_uri": "https://localhost:8080/"
        },
        "id": "xBGcetrn3-9U",
        "outputId": "9b54fcd7-2ccc-4354-d4f4-665e085e5e28"
      },
      "outputs": [
        {
          "data": {
            "text/plain": [
              "549367"
            ]
          },
          "execution_count": 25,
          "metadata": {},
          "output_type": "execute_result"
        }
      ],
      "source": [
        "len(df_train)"
      ]
    },
    {
      "cell_type": "code",
      "execution_count": 26,
      "metadata": {
        "colab": {
          "base_uri": "https://localhost:8080/"
        },
        "id": "Da-lJmLv4Aq7",
        "outputId": "1028dcb5-074b-4efb-f519-9045a9975861"
      },
      "outputs": [
        {
          "data": {
            "text/plain": [
              "9842"
            ]
          },
          "execution_count": 26,
          "metadata": {},
          "output_type": "execute_result"
        }
      ],
      "source": [
        "len(df_val)"
      ]
    },
    {
      "cell_type": "code",
      "execution_count": 27,
      "metadata": {
        "colab": {
          "base_uri": "https://localhost:8080/"
        },
        "id": "cI_bT4Ck4BXG",
        "outputId": "593e8881-07fa-43a1-ac2f-a83cd2cf67cd"
      },
      "outputs": [
        {
          "data": {
            "text/plain": [
              "9824"
            ]
          },
          "execution_count": 27,
          "metadata": {},
          "output_type": "execute_result"
        }
      ],
      "source": [
        "len(df_test)"
      ]
    },
    {
      "cell_type": "code",
      "execution_count": 28,
      "metadata": {
        "id": "JwlxqXpi4Cuf"
      },
      "outputs": [],
      "source": [
        "train_pairs, train_labels = preprocess_snli_data(df_train)\n",
        "val_pairs, val_labels = preprocess_snli_data(df_val)\n",
        "test_pairs, test_labels = preprocess_snli_data(df_test)\n",
        "\n",
        "\n"
      ]
    },
    {
      "cell_type": "code",
      "execution_count": 29,
      "metadata": {
        "colab": {
          "base_uri": "https://localhost:8080/"
        },
        "id": "UH7soEi24D5V",
        "outputId": "8dc8e383-c7df-4b78-de2b-e0d5a2715d04"
      },
      "outputs": [
        {
          "name": "stdout",
          "output_type": "stream",
          "text": [
            "Sample Preprocessed Data:\n",
            "Premise: ['a', 'person', 'on', 'a', 'horse', 'jumps', 'over', 'a', 'broken', 'down', 'airplane']\n",
            "Hypothesis: ['a', 'person', 'is', 'training', 'his', 'horse', 'for', 'a', 'competition']\n",
            "Label: 1\n"
          ]
        }
      ],
      "source": [
        "# Print sample to verify preprocessing\n",
        "print(\"Sample Preprocessed Data:\")\n",
        "print(\"Premise:\", train_pairs[0][0])\n",
        "print(\"Hypothesis:\", train_pairs[0][1])\n",
        "print(\"Label:\", train_labels[0])"
      ]
    },
    {
      "cell_type": "code",
      "execution_count": 30,
      "metadata": {
        "colab": {
          "base_uri": "https://localhost:8080/"
        },
        "id": "7fEZTxiG4GL7",
        "outputId": "609179b0-a9b5-496c-adf4-b869bad13d0d"
      },
      "outputs": [
        {
          "data": {
            "text/plain": [
              "549367"
            ]
          },
          "execution_count": 30,
          "metadata": {},
          "output_type": "execute_result"
        }
      ],
      "source": [
        "len(train_pairs)"
      ]
    },
    {
      "cell_type": "code",
      "execution_count": null,
      "metadata": {},
      "outputs": [],
      "source": []
    },
    {
      "cell_type": "markdown",
      "metadata": {
        "id": "1NP_81UH4IrK"
      },
      "source": [
        "### Step 4: Word Embeddings (GloVe)"
      ]
    },
    {
      "cell_type": "code",
      "execution_count": null,
      "metadata": {
        "colab": {
          "base_uri": "https://localhost:8080/"
        },
        "id": "CV6KhH664mzb",
        "outputId": "c8a20ea3-0f62-4155-bf54-c9e8d90d4142"
      },
      "outputs": [],
      "source": []
    },
    {
      "cell_type": "markdown",
      "metadata": {
        "id": "hRF03YO044ko"
      },
      "source": [
        "Step 1: Download GloVe Embeddings"
      ]
    },
    {
      "cell_type": "code",
      "execution_count": 31,
      "metadata": {
        "colab": {
          "base_uri": "https://localhost:8080/"
        },
        "id": "MvDTewPw44Bx",
        "outputId": "966fd565-7790-4fff-bb38-cfa5594caa7b"
      },
      "outputs": [],
      "source": [
        "# !wget http://nlp.stanford.edu/data/glove.6B.zip\n",
        "# !unzip glove.6B.zip\n"
      ]
    },
    {
      "cell_type": "markdown",
      "metadata": {
        "id": "pmse-3qt4-Nn"
      },
      "source": [
        " Step 2: Load GloVe into Python"
      ]
    },
    {
      "cell_type": "markdown",
      "metadata": {
        "id": "SlfyPvAzBAXo"
      },
      "source": [
        "Changing to embedding_dim = 300"
      ]
    },
    {
      "cell_type": "code",
      "execution_count": 32,
      "metadata": {
        "colab": {
          "base_uri": "https://localhost:8080/"
        },
        "id": "H5pEb1vR5AxK",
        "outputId": "cc265891-3835-45ec-bd83-13009cfa5477"
      },
      "outputs": [
        {
          "name": "stdout",
          "output_type": "stream",
          "text": [
            "Loaded 400000 word vectors from GloVe.\n"
          ]
        }
      ],
      "source": [
        "import numpy as np\n",
        "\n",
        "# Path to GloVe embeddings (change dim=50 if using another size)\n",
        "glove_path = \"glove.6B.50d.txt\"\n",
        "embedding_dim = 50\n",
        "\n",
        "# Load GloVe embeddings into a dictionary\n",
        "def load_glove_embeddings(glove_path):\n",
        "    embeddings = {}\n",
        "    with open(glove_path, \"r\", encoding=\"utf-8\") as f:\n",
        "        for line in f:\n",
        "            values = line.strip().split()\n",
        "            word = values[0]  # First value is the word\n",
        "            vector = np.array(values[1:], dtype=np.float32)  # The rest are the vector values\n",
        "            embeddings[word] = vector\n",
        "    return embeddings\n",
        "\n",
        "glove_embeddings = load_glove_embeddings(glove_path)\n",
        "print(f\"Loaded {len(glove_embeddings)} word vectors from GloVe.\")\n"
      ]
    },
    {
      "cell_type": "markdown",
      "metadata": {
        "id": "xDAOKiaZ554s"
      },
      "source": [
        "###  4.2 Build Vocabulary"
      ]
    },
    {
      "cell_type": "code",
      "execution_count": 33,
      "metadata": {
        "colab": {
          "base_uri": "https://localhost:8080/"
        },
        "id": "PeuH0hHw59X2",
        "outputId": "9a7ea784-e77c-4f13-fd10-7fb36ff10046"
      },
      "outputs": [
        {
          "name": "stdout",
          "output_type": "stream",
          "text": [
            "Vocabulary Size: 35937\n"
          ]
        }
      ],
      "source": [
        "# Special tokens\n",
        "word_to_index = {\"<PAD>\": 0, \"<UNK>\": 1}  # PAD for padding, UNK for unknown words\n",
        "index_to_word = [\"<PAD>\", \"<UNK>\"]\n",
        "\n",
        "# Populate vocabulary from training data\n",
        "for premise, hypothesis in train_pairs:\n",
        "    for word in premise + hypothesis:\n",
        "        if word not in word_to_index:\n",
        "            word_to_index[word] = len(word_to_index)\n",
        "            index_to_word.append(word)\n",
        "\n",
        "# Vocabulary size\n",
        "vocab_size = len(word_to_index)\n",
        "print(f\"Vocabulary Size: {vocab_size}\")\n"
      ]
    },
    {
      "cell_type": "markdown",
      "metadata": {
        "id": "GJkYrDlv5EsE"
      },
      "source": [
        "### Step 4.3: Create the Embedding Matrix"
      ]
    },
    {
      "cell_type": "code",
      "execution_count": 34,
      "metadata": {
        "colab": {
          "base_uri": "https://localhost:8080/"
        },
        "id": "2RD9Wv9l4Hrk",
        "outputId": "aff174e4-9c53-4202-decf-9154b61669d8"
      },
      "outputs": [
        {
          "name": "stdout",
          "output_type": "stream",
          "text": [
            "Final Embedding Matrix Shape: torch.Size([35937, 50])\n"
          ]
        }
      ],
      "source": [
        "import torch\n",
        "\n",
        "# Initialize embedding matrix\n",
        "vocab_size = len(word_to_index)\n",
        "embedding_matrix = np.zeros((vocab_size, embedding_dim))\n",
        "\n",
        "# Assign GloVe embeddings, use random for missing words\n",
        "for word, idx in word_to_index.items():\n",
        "    if word in glove_embeddings:\n",
        "        embedding_matrix[idx] = glove_embeddings[word]\n",
        "    else:\n",
        "        embedding_matrix[idx] = np.random.normal(scale=0.6, size=(embedding_dim,))  # Random for unknown words\n",
        "\n",
        "# Convert to PyTorch tensor\n",
        "embedding_matrix = torch.tensor(embedding_matrix, dtype=torch.float32)\n",
        "\n",
        "print(\"Final Embedding Matrix Shape:\", embedding_matrix.shape)\n"
      ]
    },
    {
      "cell_type": "markdown",
      "metadata": {
        "id": "DNd8HKGL6amQ"
      },
      "source": [
        "### Step 5: Convert data into tensor format"
      ]
    },
    {
      "cell_type": "markdown",
      "metadata": {
        "id": "bf--uG6W6dOJ"
      },
      "source": [
        "Step 5.1: Encode Sentences as Word Indexes"
      ]
    },
    {
      "cell_type": "code",
      "execution_count": 35,
      "metadata": {
        "id": "K3Ygnsv_6X9Q"
      },
      "outputs": [],
      "source": [
        "import torch\n",
        "from torch.nn.utils.rnn import pad_sequence\n",
        "from torch.utils.data import DataLoader, TensorDataset\n",
        "\n",
        "# Define max sequence length based on data analysis (Step 2)\n",
        "MAX_LENGTH = 500  # Most sentences are within 500 words\n",
        "\n",
        "# Function to encode sentences into word indices\n",
        "def encode_sentence(sentence, max_len=MAX_LENGTH):\n",
        "    encoded = [word_to_index.get(word, 1) for word in sentence]  # 1 is \"<UNK>\"\n",
        "    return torch.tensor(encoded[:max_len])  # Truncate if longer than max_len\n"
      ]
    },
    {
      "cell_type": "code",
      "execution_count": null,
      "metadata": {
        "id": "t7z1gn4w81GO"
      },
      "outputs": [],
      "source": []
    },
    {
      "cell_type": "code",
      "execution_count": 36,
      "metadata": {
        "colab": {
          "base_uri": "https://localhost:8080/"
        },
        "id": "kdhnZ4V481Ld",
        "outputId": "0ab8385e-39f9-41fd-8f6a-2533785ca651"
      },
      "outputs": [
        {
          "name": "stdout",
          "output_type": "stream",
          "text": [
            "Train Premises Shape: torch.Size([549367, 78])\n",
            "Train Hypotheses Shape: torch.Size([549367, 56])\n",
            "Train Labels Shape: torch.Size([549367, 1])\n"
          ]
        }
      ],
      "source": [
        "\n",
        "# Convert dataset into tensor format\n",
        "def encode_data(pairs, labels, max_len=MAX_LENGTH):\n",
        "    premises = [encode_sentence(p, max_len) for p, h in pairs]\n",
        "    hypotheses = [encode_sentence(h, max_len) for p, h in pairs]\n",
        "    labels = torch.tensor(labels).unsqueeze(1)  # Fix: Ensure labels have correct shape\n",
        "\n",
        "    # Pad sequences to make them the same length\n",
        "    premises_padded = pad_sequence(premises, batch_first=True, padding_value=0)\n",
        "    hypotheses_padded = pad_sequence(hypotheses, batch_first=True, padding_value=0)\n",
        "\n",
        "    return premises_padded, hypotheses_padded, labels\n",
        "\n",
        "\n",
        "\n",
        "# Encode train, validation, and test sets\n",
        "train_prem, train_hyp, train_labels = encode_data(train_pairs, train_labels)\n",
        "val_prem, val_hyp, val_labels = encode_data(val_pairs, val_labels)\n",
        "test_prem, test_hyp, test_labels = encode_data(test_pairs, test_labels)\n",
        "\n",
        "# Print shape of data\n",
        "print(\"Train Premises Shape:\", train_prem.shape)\n",
        "print(\"Train Hypotheses Shape:\", train_hyp.shape)\n",
        "print(\"Train Labels Shape:\", train_labels.shape)"
      ]
    },
    {
      "cell_type": "markdown",
      "metadata": {
        "id": "xUmVC3lB6jO_"
      },
      "source": [
        "Step 5.2: Create DataLoader for Efficient Batching"
      ]
    },
    {
      "cell_type": "code",
      "execution_count": 37,
      "metadata": {
        "colab": {
          "base_uri": "https://localhost:8080/"
        },
        "id": "cUc0Aqh06ihs",
        "outputId": "9aba19cc-5be6-4189-fe3e-520311c416c0"
      },
      "outputs": [
        {
          "name": "stdout",
          "output_type": "stream",
          "text": [
            "DataLoaders created successfully!\n"
          ]
        }
      ],
      "source": [
        "# Define batch size\n",
        "BATCH_SIZE = 64\n",
        "\n",
        "# Create TensorDataset and DataLoader\n",
        "train_data = TensorDataset(train_prem, train_hyp, train_labels)\n",
        "train_loader = DataLoader(train_data, batch_size=BATCH_SIZE, shuffle=True)\n",
        "\n",
        "val_data = TensorDataset(val_prem, val_hyp, val_labels)\n",
        "val_loader = DataLoader(val_data, batch_size=BATCH_SIZE)\n",
        "\n",
        "test_data = TensorDataset(test_prem, test_hyp, test_labels)\n",
        "test_loader = DataLoader(test_data, batch_size=BATCH_SIZE)\n",
        "\n",
        "print(\"DataLoaders created successfully!\")\n"
      ]
    },
    {
      "cell_type": "markdown",
      "metadata": {
        "id": "B5g6CKHf6z9i"
      },
      "source": [
        "### Step 6: Build & Train the BiLSTM Model"
      ]
    },
    {
      "cell_type": "code",
      "execution_count": null,
      "metadata": {
        "id": "ZpcOddAPq5RL"
      },
      "outputs": [],
      "source": []
    },
    {
      "cell_type": "markdown",
      "metadata": {
        "id": "kmHvtha57AKZ"
      },
      "source": [
        " Step 6.1: Define the BiLSTM Model"
      ]
    },
    {
      "cell_type": "code",
      "execution_count": 38,
      "metadata": {
        "id": "tXxkE215qZIh"
      },
      "outputs": [],
      "source": [
        "import torch\n",
        "import torch.nn as nn\n",
        "import torch.optim as optim\n",
        "import torch.nn.functional as F\n",
        "\n",
        "\n"
      ]
    },
    {
      "cell_type": "code",
      "execution_count": null,
      "metadata": {
        "id": "SjJyY1pR5Nte"
      },
      "outputs": [],
      "source": [
        "\n",
        "class BiLSTMWithAttention(nn.Module):\n",
        "    def __init__(self,\n",
        "                 vocab_size,\n",
        "                 embedding_dim,\n",
        "                 hidden_dim,\n",
        "                 output_dim,\n",
        "                 embedding_matrix=None,\n",
        "                 use_pretrained=True,\n",
        "                 freeze_embeddings=False):\n",
        "        super(BiLSTMWithAttention, self).__init__()\n",
        "\n",
        "        if use_pretrained:\n",
        "            # Use GloVe or other external embeddings\n",
        "            self.embedding = nn.Embedding.from_pretrained(\n",
        "                embedding_matrix,\n",
        "                freeze=freeze_embeddings  # True = do not update; False = fine-tune\n",
        "            )\n",
        "        else:\n",
        "            # Train embeddings from scratch (random initialization)\n",
        "            self.embedding = nn.Embedding(vocab_size, embedding_dim)\n",
        "     \n",
        "\n",
        "        self.lstm = nn.LSTM(embedding_dim, hidden_dim, bidirectional=True, batch_first=True)\n",
        "        self.attention = nn.Linear(hidden_dim * 2, 1)\n",
        "        self.fc = nn.Linear(hidden_dim * 4, output_dim)\n",
        "        self.relu = nn.ReLU()\n",
        "        self.dropout = nn.Dropout(0.3)\n",
        "\n",
        "    def forward(self, premise, hypothesis):\n",
        "        prem_embed = self.embedding(premise)\n",
        "        hyp_embed  = self.embedding(hypothesis)\n",
        "\n",
        "        prem_out, _ = self.lstm(prem_embed)\n",
        "        hyp_out,  _ = self.lstm(hyp_embed)\n",
        "\n",
        "        prem_weights = torch.softmax(self.attention(prem_out), dim=1)\n",
        "        hyp_weights  = torch.softmax(self.attention(hyp_out),  dim=1)\n",
        "\n",
        "        prem_rep = torch.sum(prem_out * prem_weights, dim=1)\n",
        "        hyp_rep  = torch.sum(hyp_out  * hyp_weights,  dim=1)\n",
        "\n",
        "        combined = torch.cat([prem_rep, hyp_rep], dim=1)\n",
        "        output = self.fc(self.dropout(self.relu(combined)))\n",
        "        return output\n"
      ]
    },
    {
      "cell_type": "markdown",
      "metadata": {
        "id": "I-JLid-G7D73"
      },
      "source": [
        " Step 6.2: Initialize Model, Loss, and Optimizer"
      ]
    },
    {
      "cell_type": "code",
      "execution_count": 40,
      "metadata": {
        "colab": {
          "base_uri": "https://localhost:8080/"
        },
        "id": "esXWcZSw4etk",
        "outputId": "d38de650-d0ea-447e-e454-ee85b9a5a3d2"
      },
      "outputs": [
        {
          "name": "stdout",
          "output_type": "stream",
          "text": [
            "Model initialized and ready for training!\n"
          ]
        }
      ],
      "source": [
        "# Define device (use GPU if available)\n",
        "device = torch.device(\"cuda\" if torch.cuda.is_available() else \"cpu\")\n",
        "\n",
        "# Model parameters\n",
        "hidden_dim = 512  # Number of hidden units in LSTM\n",
        "output_dim = 3    # Three classes: entailment, contradiction, neutral\n",
        "\n",
        "# Initialize model\n",
        "model = BiLSTMWithAttention(len(word_to_index), embedding_dim, hidden_dim, output_dim, embedding_matrix)\n",
        "model.to(device)\n",
        "\n",
        "# Define loss function and optimizer\n",
        "criterion = nn.CrossEntropyLoss()\n",
        "optimizer = optim.Adam(model.parameters(), lr=0.0001)\n",
        "\n",
        "print(\"Model initialized and ready for training!\")\n"
      ]
    },
    {
      "cell_type": "markdown",
      "metadata": {
        "id": "xMa4zdRO7MBD"
      },
      "source": [
        "### Step 6.3: Train the Model"
      ]
    },
    {
      "cell_type": "code",
      "execution_count": 41,
      "metadata": {
        "id": "4g1R35ZG9yzA"
      },
      "outputs": [],
      "source": [
        "from tqdm import tqdm"
      ]
    },
    {
      "cell_type": "code",
      "execution_count": 42,
      "metadata": {},
      "outputs": [],
      "source": [
        "def evaluate(model, data_loader):\n",
        "    model.eval()\n",
        "    correct = 0\n",
        "    total = 0\n",
        "\n",
        "    with torch.no_grad():\n",
        "        for premise, hypothesis, labels in data_loader:\n",
        "            premise, hypothesis, labels = premise.to(device), hypothesis.to(device), labels.to(device)\n",
        "\n",
        "            outputs = model(premise, hypothesis)\n",
        "            predictions = torch.argmax(outputs, dim=1)\n",
        "\n",
        "            correct += (predictions == labels.squeeze()).sum().item()  # Fix: Squeeze labels\n",
        "            total += labels.size(0)\n",
        "\n",
        "    return correct / total\n"
      ]
    },
    {
      "cell_type": "markdown",
      "metadata": {},
      "source": [
        "### Collect Training Data "
      ]
    },
    {
      "cell_type": "code",
      "execution_count": null,
      "metadata": {
        "id": "-rn0Kjny7K6e"
      },
      "outputs": [],
      "source": [
        "import torch\n",
        "import torch.nn as nn\n",
        "import torch.optim as optim\n",
        "from tqdm import tqdm\n",
        "\n",
        "def train_and_evaluate(model, train_loader, val_loader, \n",
        "                       criterion=None, optimizer=None, \n",
        "                       num_epochs=10, device=\"cpu\"):\n",
        "    \n",
        "    \n",
        "    if criterion is None:\n",
        "        criterion = nn.CrossEntropyLoss()\n",
        "    if optimizer is None:\n",
        "        optimizer = optim.Adam(model.parameters(), lr=1e-4)\n",
        "    \n",
        "    # Lists to store metrics every epoch\n",
        "    train_losses = []\n",
        "    train_accuracies = []\n",
        "    val_losses = []\n",
        "    val_accuracies = []\n",
        "    \n",
        "    for epoch in range(num_epochs):\n",
        "        model.train()\n",
        "        total_train_loss = 0.0\n",
        "        correct_train = 0\n",
        "        total_train = 0\n",
        "        \n",
        "        # --------------------\n",
        "        #  TRAINING LOOP\n",
        "        # --------------------\n",
        "        for premise, hypothesis, labels in tqdm(train_loader, \n",
        "                                                desc=f\"Epoch {epoch+1}/{num_epochs}\"):\n",
        "            premise, hypothesis, labels = premise.to(device), hypothesis.to(device), labels.to(device)\n",
        "            \n",
        "            optimizer.zero_grad()\n",
        "            outputs = model(premise, hypothesis)\n",
        "            \n",
        "            # CrossEntropy expects shape (batch_size, num_classes) vs. shape (batch_size,)\n",
        "            loss = criterion(outputs, labels.squeeze())\n",
        "            loss.backward()\n",
        "            optimizer.step()\n",
        "            \n",
        "            total_train_loss += loss.item()\n",
        "            \n",
        "            # Predictions for accuracy\n",
        "            predictions = torch.argmax(outputs, dim=1)\n",
        "            correct_train += (predictions == labels.squeeze()).sum().item()\n",
        "            total_train += labels.size(0)\n",
        "        \n",
        "        # Average training loss for the epoch\n",
        "        avg_train_loss = total_train_loss / len(train_loader)\n",
        "        train_acc = correct_train / total_train\n",
        "        \n",
        "        # --------------------\n",
        "        #  VALIDATION LOOP\n",
        "        # --------------------\n",
        "        model.eval()\n",
        "        total_val_loss = 0.0\n",
        "        correct_val = 0\n",
        "        total_val = 0\n",
        "        \n",
        "        with torch.no_grad():\n",
        "            for premise, hypothesis, labels in val_loader:\n",
        "                premise, hypothesis, labels = premise.to(device), hypothesis.to(device), labels.to(device)\n",
        "                outputs = model(premise, hypothesis)\n",
        "                \n",
        "                loss = criterion(outputs, labels.squeeze())\n",
        "                total_val_loss += loss.item()\n",
        "                \n",
        "                predictions = torch.argmax(outputs, dim=1)\n",
        "                correct_val += (predictions == labels.squeeze()).sum().item()\n",
        "                total_val += labels.size(0)\n",
        "        \n",
        "        avg_val_loss = total_val_loss / len(val_loader)\n",
        "        val_acc = correct_val / total_val\n",
        "        \n",
        "        # --------------------\n",
        "        #  STORE METRICS\n",
        "        # --------------------\n",
        "        train_losses.append(avg_train_loss)\n",
        "        train_accuracies.append(train_acc)\n",
        "        val_losses.append(avg_val_loss)\n",
        "        val_accuracies.append(val_acc)\n",
        "        \n",
        "        print(f\"[Epoch {epoch+1}] \"\n",
        "              f\"Train Loss: {avg_train_loss:.4f}, Train Acc: {train_acc:.4f}, \"\n",
        "              f\"Val Loss: {avg_val_loss:.4f}, Val Acc: {val_acc:.4f}\")\n",
        "        \n",
        "        model.train()  # switch back to train mode for next epoch\n",
        "    \n",
        "    \n",
        "    return {\n",
        "        \"train_loss\": train_losses,\n",
        "        \"val_loss\": val_losses,\n",
        "        \"train_acc\": train_accuracies,\n",
        "        \"val_acc\": val_accuracies\n",
        "    }\n"
      ]
    },
    {
      "cell_type": "markdown",
      "metadata": {},
      "source": [
        "### Part1 : Model Frozen Embeddings"
      ]
    },
    {
      "cell_type": "code",
      "execution_count": null,
      "metadata": {
        "id": "bNm-PjhK7Fh1"
      },
      "outputs": [
        {
          "name": "stderr",
          "output_type": "stream",
          "text": [
            "Epoch 1/10:   0%|          | 0/8584 [00:00<?, ?it/s]"
          ]
        },
        {
          "name": "stderr",
          "output_type": "stream",
          "text": [
            "Epoch 1/10: 100%|██████████| 8584/8584 [01:44<00:00, 82.08it/s] \n"
          ]
        },
        {
          "name": "stdout",
          "output_type": "stream",
          "text": [
            "[Epoch 1] Train Loss: 0.9343, Train Acc: 0.5523, Val Loss: 0.8723, Val Acc: 0.6024\n"
          ]
        },
        {
          "name": "stderr",
          "output_type": "stream",
          "text": [
            "Epoch 2/10: 100%|██████████| 8584/8584 [01:19<00:00, 108.08it/s]\n"
          ]
        },
        {
          "name": "stdout",
          "output_type": "stream",
          "text": [
            "[Epoch 2] Train Loss: 0.8563, Train Acc: 0.6083, Val Loss: 0.8283, Val Acc: 0.6244\n"
          ]
        },
        {
          "name": "stderr",
          "output_type": "stream",
          "text": [
            "Epoch 3/10: 100%|██████████| 8584/8584 [01:26<00:00, 98.82it/s] \n"
          ]
        },
        {
          "name": "stdout",
          "output_type": "stream",
          "text": [
            "[Epoch 3] Train Loss: 0.8259, Train Acc: 0.6271, Val Loss: 0.7997, Val Acc: 0.6446\n"
          ]
        },
        {
          "name": "stderr",
          "output_type": "stream",
          "text": [
            "Epoch 4/10: 100%|██████████| 8584/8584 [01:47<00:00, 80.03it/s] \n"
          ]
        },
        {
          "name": "stdout",
          "output_type": "stream",
          "text": [
            "[Epoch 4] Train Loss: 0.8062, Train Acc: 0.6390, Val Loss: 0.7886, Val Acc: 0.6508\n"
          ]
        },
        {
          "name": "stderr",
          "output_type": "stream",
          "text": [
            "Epoch 5/10: 100%|██████████| 8584/8584 [01:17<00:00, 110.18it/s]\n"
          ]
        },
        {
          "name": "stdout",
          "output_type": "stream",
          "text": [
            "[Epoch 5] Train Loss: 0.7908, Train Acc: 0.6485, Val Loss: 0.7786, Val Acc: 0.6576\n"
          ]
        },
        {
          "name": "stderr",
          "output_type": "stream",
          "text": [
            "Epoch 6/10: 100%|██████████| 8584/8584 [01:29<00:00, 95.87it/s] \n"
          ]
        },
        {
          "name": "stdout",
          "output_type": "stream",
          "text": [
            "[Epoch 6] Train Loss: 0.7787, Train Acc: 0.6559, Val Loss: 0.7728, Val Acc: 0.6567\n"
          ]
        },
        {
          "name": "stderr",
          "output_type": "stream",
          "text": [
            "Epoch 7/10: 100%|██████████| 8584/8584 [01:24<00:00, 101.55it/s]\n"
          ]
        },
        {
          "name": "stdout",
          "output_type": "stream",
          "text": [
            "[Epoch 7] Train Loss: 0.7674, Train Acc: 0.6623, Val Loss: 0.7609, Val Acc: 0.6661\n"
          ]
        },
        {
          "name": "stderr",
          "output_type": "stream",
          "text": [
            "Epoch 8/10: 100%|██████████| 8584/8584 [01:31<00:00, 93.32it/s] \n"
          ]
        },
        {
          "name": "stdout",
          "output_type": "stream",
          "text": [
            "[Epoch 8] Train Loss: 0.7577, Train Acc: 0.6678, Val Loss: 0.7585, Val Acc: 0.6692\n"
          ]
        },
        {
          "name": "stderr",
          "output_type": "stream",
          "text": [
            "Epoch 9/10: 100%|██████████| 8584/8584 [01:20<00:00, 106.40it/s]\n"
          ]
        },
        {
          "name": "stdout",
          "output_type": "stream",
          "text": [
            "[Epoch 9] Train Loss: 0.7486, Train Acc: 0.6734, Val Loss: 0.7436, Val Acc: 0.6733\n"
          ]
        },
        {
          "name": "stderr",
          "output_type": "stream",
          "text": [
            "Epoch 10/10: 100%|██████████| 8584/8584 [01:15<00:00, 113.02it/s]\n"
          ]
        },
        {
          "name": "stdout",
          "output_type": "stream",
          "text": [
            "[Epoch 10] Train Loss: 0.7389, Train Acc: 0.6787, Val Loss: 0.7471, Val Acc: 0.6692\n",
            "Saved frozen model training logs to 'frozen_logs.csv'.\n"
          ]
        },
        {
          "data": {
            "image/png": "[encoded data removed]",
            "text/plain": [
              "<Figure size 1000x400 with 2 Axes>"
            ]
          },
          "metadata": {},
          "output_type": "display_data"
        }
      ],
      "source": [
        "###################################\n",
        "# 1) Initialize the Frozen Model\n",
        "###################################\n",
        "model_frozen = BiLSTMWithAttention(\n",
        "    vocab_size=len(word_to_index),   \n",
        "    embedding_dim=embedding_dim,     # e.g. 50, 100, 300, ...\n",
        "    hidden_dim=512,                  # LSTM hidden size\n",
        "    output_dim=3,                    # SNLI has 3 classes\n",
        "    embedding_matrix=embedding_matrix, \n",
        "    use_pretrained=True,            # Use GloVe (or other) embeddings\n",
        "    freeze_embeddings=True          # Keep them FROZEN\n",
        ").to(device)\n",
        "\n",
        "###################################\n",
        "# 2) Train the Frozen Model\n",
        "###################################\n",
        "logs_frozen = train_and_evaluate(\n",
        "    model=model_frozen,\n",
        "    train_loader=train_loader,\n",
        "    val_loader=val_loader,\n",
        "    num_epochs=10,   \n",
        "    device=device\n",
        ")\n",
        "\n"
      ]
    },
    {
      "cell_type": "code",
      "execution_count": null,
      "metadata": {},
      "outputs": [],
      "source": []
    },
    {
      "cell_type": "code",
      "execution_count": 48,
      "metadata": {},
      "outputs": [
        {
          "name": "stdout",
          "output_type": "stream",
          "text": [
            "Saved frozen model training logs to 'frozen_logs.csv'.\n"
          ]
        },
        {
          "data": {
            "image/png": "[encoded data removed]",
            "text/plain": [
              "<Figure size 1000x400 with 2 Axes>"
            ]
          },
          "metadata": {},
          "output_type": "display_data"
        }
      ],
      "source": [
        "###################################\n",
        "# 3) Convert Logs to DataFrame & Save\n",
        "###################################\n",
        "import pandas as pd\n",
        "\n",
        "epochs = range(1, len(logs_frozen[\"train_loss\"]) + 1)\n",
        "\n",
        "# Create a DataFrame with all metrics\n",
        "logs_frozen_df = pd.DataFrame({\n",
        "    \"epoch\": epochs,\n",
        "    \"train_loss\": logs_frozen[\"train_loss\"],\n",
        "    \"val_loss\": logs_frozen[\"val_loss\"],\n",
        "    \"train_acc\": logs_frozen[\"train_acc\"],\n",
        "    \"val_acc\": logs_frozen[\"val_acc\"]\n",
        "})\n",
        "\n",
        "logs_frozen_df.to_csv(\"frozen_logs.csv\", index=False)\n",
        "print(\"Saved frozen model training logs to 'frozen_logs.csv'.\")\n",
        "\n",
        "###################################\n",
        "# 4) Plot Training Curves\n",
        "###################################\n",
        "import matplotlib.pyplot as plt\n",
        "\n",
        "plt.figure(figsize=(10,4))\n",
        "\n",
        "# ---- Subplot 1: Loss vs. Epoch ----\n",
        "plt.subplot(1, 2, 1)\n",
        "plt.plot(epochs, logs_frozen_df[\"train_loss\"], label=\"Train Loss\", marker='o')\n",
        "plt.plot(epochs, logs_frozen_df[\"val_loss\"],   label=\"Val Loss\",   marker='o')\n",
        "plt.xlabel(\"Epoch\")\n",
        "plt.ylabel(\"Loss\")\n",
        "plt.title(\"Loss (Frozen Embeddings)\")\n",
        "plt.legend()\n",
        "\n",
        "# ---- Subplot 2: Accuracy vs. Epoch ----\n",
        "plt.subplot(1, 2, 2)\n",
        "plt.plot(epochs, logs_frozen_df[\"train_acc\"], label=\"Train Acc\", marker='o')\n",
        "plt.plot(epochs, logs_frozen_df[\"val_acc\"],   label=\"Val Acc\",   marker='o')\n",
        "plt.xlabel(\"Epoch\")\n",
        "plt.ylabel(\"Accuracy\")\n",
        "plt.title(\"Accuracy (Frozen Embeddings)\")\n",
        "plt.legend()\n",
        "\n",
        "plt.tight_layout()\n",
        "plt.show()\n",
        "\n",
        "###################################\n",
        "# (Optional) Evaluate on Test Set\n",
        "###################################\n",
        "# test_acc = evaluate(model_frozen, test_loader)\n",
        "# print(f\"Frozen Model Test Accuracy: {test_acc:.4f}\")\n"
      ]
    },
    {
      "cell_type": "markdown",
      "metadata": {},
      "source": [
        "### Evaluate on Test Set"
      ]
    },
    {
      "cell_type": "code",
      "execution_count": 49,
      "metadata": {},
      "outputs": [
        {
          "name": "stdout",
          "output_type": "stream",
          "text": [
            "Frozen Model Test Accuracy: 0.6729\n"
          ]
        }
      ],
      "source": [
        "test_acc = evaluate(model_frozen, test_loader)\n",
        "print(f\"Frozen Model Test Accuracy: {test_acc:.4f}\")"
      ]
    },
    {
      "cell_type": "markdown",
      "metadata": {},
      "source": [
        "### Part 2: "
      ]
    },
    {
      "cell_type": "code",
      "execution_count": null,
      "metadata": {},
      "outputs": [
        {
          "name": "stderr",
          "output_type": "stream",
          "text": [
            "Epoch 1/10: 100%|██████████| 8584/8584 [01:46<00:00, 80.24it/s]\n"
          ]
        },
        {
          "name": "stdout",
          "output_type": "stream",
          "text": [
            "[Epoch 1] Train Loss: 0.8917, Train Acc: 0.5824, Val Loss: 0.8021, Val Acc: 0.6469\n"
          ]
        },
        {
          "name": "stderr",
          "output_type": "stream",
          "text": [
            "Epoch 2/10: 100%|██████████| 8584/8584 [01:37<00:00, 87.82it/s] \n"
          ]
        },
        {
          "name": "stdout",
          "output_type": "stream",
          "text": [
            "[Epoch 2] Train Loss: 0.7962, Train Acc: 0.6470, Val Loss: 0.7707, Val Acc: 0.6633\n"
          ]
        },
        {
          "name": "stderr",
          "output_type": "stream",
          "text": [
            "Epoch 3/10: 100%|██████████| 8584/8584 [01:56<00:00, 73.83it/s]\n"
          ]
        },
        {
          "name": "stdout",
          "output_type": "stream",
          "text": [
            "[Epoch 3] Train Loss: 0.7660, Train Acc: 0.6646, Val Loss: 0.7500, Val Acc: 0.6778\n"
          ]
        },
        {
          "name": "stderr",
          "output_type": "stream",
          "text": [
            "Epoch 4/10: 100%|██████████| 8584/8584 [01:21<00:00, 105.43it/s]\n"
          ]
        },
        {
          "name": "stdout",
          "output_type": "stream",
          "text": [
            "[Epoch 4] Train Loss: 0.7482, Train Acc: 0.6752, Val Loss: 0.7396, Val Acc: 0.6853\n"
          ]
        },
        {
          "name": "stderr",
          "output_type": "stream",
          "text": [
            "Epoch 5/10: 100%|██████████| 8584/8584 [01:47<00:00, 80.21it/s] \n"
          ]
        },
        {
          "name": "stdout",
          "output_type": "stream",
          "text": [
            "[Epoch 5] Train Loss: 0.7352, Train Acc: 0.6825, Val Loss: 0.7335, Val Acc: 0.6865\n"
          ]
        },
        {
          "name": "stderr",
          "output_type": "stream",
          "text": [
            "Epoch 6/10: 100%|██████████| 8584/8584 [01:54<00:00, 74.96it/s]\n"
          ]
        },
        {
          "name": "stdout",
          "output_type": "stream",
          "text": [
            "[Epoch 6] Train Loss: 0.7248, Train Acc: 0.6888, Val Loss: 0.7315, Val Acc: 0.6901\n"
          ]
        },
        {
          "name": "stderr",
          "output_type": "stream",
          "text": [
            "Epoch 7/10: 100%|██████████| 8584/8584 [01:53<00:00, 75.83it/s]\n"
          ]
        },
        {
          "name": "stdout",
          "output_type": "stream",
          "text": [
            "[Epoch 7] Train Loss: 0.7158, Train Acc: 0.6935, Val Loss: 0.7249, Val Acc: 0.6935\n"
          ]
        },
        {
          "name": "stderr",
          "output_type": "stream",
          "text": [
            "Epoch 8/10: 100%|██████████| 8584/8584 [01:55<00:00, 74.54it/s]\n"
          ]
        },
        {
          "name": "stdout",
          "output_type": "stream",
          "text": [
            "[Epoch 8] Train Loss: 0.7078, Train Acc: 0.6978, Val Loss: 0.7210, Val Acc: 0.6935\n"
          ]
        },
        {
          "name": "stderr",
          "output_type": "stream",
          "text": [
            "Epoch 9/10: 100%|██████████| 8584/8584 [01:53<00:00, 75.90it/s]\n"
          ]
        },
        {
          "name": "stdout",
          "output_type": "stream",
          "text": [
            "[Epoch 9] Train Loss: 0.7004, Train Acc: 0.7018, Val Loss: 0.7225, Val Acc: 0.6949\n"
          ]
        },
        {
          "name": "stderr",
          "output_type": "stream",
          "text": [
            "Epoch 10/10: 100%|██████████| 8584/8584 [01:56<00:00, 73.73it/s]\n"
          ]
        },
        {
          "name": "stdout",
          "output_type": "stream",
          "text": [
            "[Epoch 10] Train Loss: 0.6933, Train Acc: 0.7058, Val Loss: 0.7199, Val Acc: 0.6905\n"
          ]
        }
      ],
      "source": [
        "###################################\n",
        "# 1) Initialize the Fine-tuned Model\n",
        "###################################\n",
        "model_finetune = BiLSTMWithAttention(\n",
        "    vocab_size=len(word_to_index),   \n",
        "    embedding_dim=embedding_dim,     # e.g. 50, 100, 300, ...\n",
        "    hidden_dim=512,                  # LSTM hidden size\n",
        "    output_dim=3,                    # SNLI has 3 classes\n",
        "    embedding_matrix=embedding_matrix, \n",
        "    use_pretrained=True,            # Use GloVe (or other) embeddings\n",
        "    freeze_embeddings=False         # <--- fine-tune the embeddings\n",
        ").to(device)\n",
        "\n",
        "###################################\n",
        "# 2) Train the Fine-tuned Model\n",
        "###################################\n",
        "logs_finetune = train_and_evaluate(\n",
        "    model=model_finetune,\n",
        "    train_loader=train_loader,\n",
        "    val_loader=val_loader,\n",
        "    num_epochs=10, \n",
        "    device=device\n",
        ")\n",
        "\n",
        "\n"
      ]
    },
    {
      "cell_type": "code",
      "execution_count": 51,
      "metadata": {},
      "outputs": [
        {
          "name": "stdout",
          "output_type": "stream",
          "text": [
            "Saved fine-tune model training logs to 'finetune_logs.csv'.\n"
          ]
        },
        {
          "data": {
            "image/png": "[encoded data removed]",
            "text/plain": [
              "<Figure size 1000x400 with 2 Axes>"
            ]
          },
          "metadata": {},
          "output_type": "display_data"
        }
      ],
      "source": [
        "###################################\n",
        "# 3) Convert Logs to DataFrame & Save\n",
        "###################################\n",
        "import pandas as pd\n",
        "\n",
        "epochs = range(1, len(logs_finetune[\"train_loss\"]) + 1)\n",
        "\n",
        "# Create a DataFrame with all metrics\n",
        "logs_finetune_df = pd.DataFrame({\n",
        "    \"epoch\": epochs,\n",
        "    \"train_loss\": logs_finetune[\"train_loss\"],\n",
        "    \"val_loss\": logs_finetune[\"val_loss\"],\n",
        "    \"train_acc\": logs_finetune[\"train_acc\"],\n",
        "    \"val_acc\": logs_finetune[\"val_acc\"]\n",
        "})\n",
        "\n",
        "logs_finetune_df.to_csv(\"finetune_logs.csv\", index=False)\n",
        "print(\"Saved fine-tune model training logs to 'finetune_logs.csv'.\")\n",
        "\n",
        "###################################\n",
        "# 4) Plot Training Curves\n",
        "###################################\n",
        "import matplotlib.pyplot as plt\n",
        "\n",
        "plt.figure(figsize=(10,4))\n",
        "\n",
        "# ---- Subplot 1: Loss vs. Epoch ----\n",
        "plt.subplot(1, 2, 1)\n",
        "plt.plot(epochs, logs_finetune_df[\"train_loss\"], label=\"Train Loss\", marker='o')\n",
        "plt.plot(epochs, logs_finetune_df[\"val_loss\"],   label=\"Val Loss\",   marker='o')\n",
        "plt.xlabel(\"Epoch\")\n",
        "plt.ylabel(\"Loss\")\n",
        "plt.title(\"Loss (Fine-tuned Embeddings)\")\n",
        "plt.legend()\n",
        "\n",
        "# ---- Subplot 2: Accuracy vs. Epoch ----\n",
        "plt.subplot(1, 2, 2)\n",
        "plt.plot(epochs, logs_finetune_df[\"train_acc\"], label=\"Train Acc\", marker='o')\n",
        "plt.plot(epochs, logs_finetune_df[\"val_acc\"],   label=\"Val Acc\",   marker='o')\n",
        "plt.xlabel(\"Epoch\")\n",
        "plt.ylabel(\"Accuracy\")\n",
        "plt.title(\"Accuracy (Fine-tuned Embeddings)\")\n",
        "plt.legend()\n",
        "\n",
        "plt.tight_layout()\n",
        "plt.show()\n",
        "\n",
        "\n"
      ]
    },
    {
      "cell_type": "code",
      "execution_count": 52,
      "metadata": {},
      "outputs": [
        {
          "name": "stdout",
          "output_type": "stream",
          "text": [
            "Fine-tuned Model Test Accuracy: 0.6800\n"
          ]
        }
      ],
      "source": [
        "test_acc = evaluate(model_finetune, test_loader)\n",
        "print(f\"Fine-tuned Model Test Accuracy: {test_acc:.4f}\")"
      ]
    },
    {
      "cell_type": "markdown",
      "metadata": {},
      "source": [
        "### Part 3 : Model Scratch      "
      ]
    },
    {
      "cell_type": "code",
      "execution_count": null,
      "metadata": {},
      "outputs": [
        {
          "name": "stderr",
          "output_type": "stream",
          "text": [
            "Epoch 1/10: 100%|██████████| 8584/8584 [01:42<00:00, 83.60it/s] \n"
          ]
        },
        {
          "name": "stdout",
          "output_type": "stream",
          "text": [
            "[Epoch 1] Train Loss: 0.9417, Train Acc: 0.5438, Val Loss: 0.8753, Val Acc: 0.5976\n"
          ]
        },
        {
          "name": "stderr",
          "output_type": "stream",
          "text": [
            "Epoch 2/10: 100%|██████████| 8584/8584 [01:36<00:00, 88.82it/s] \n"
          ]
        },
        {
          "name": "stdout",
          "output_type": "stream",
          "text": [
            "[Epoch 2] Train Loss: 0.8509, Train Acc: 0.6118, Val Loss: 0.8199, Val Acc: 0.6340\n"
          ]
        },
        {
          "name": "stderr",
          "output_type": "stream",
          "text": [
            "Epoch 3/10: 100%|██████████| 8584/8584 [01:53<00:00, 75.71it/s]\n"
          ]
        },
        {
          "name": "stdout",
          "output_type": "stream",
          "text": [
            "[Epoch 3] Train Loss: 0.8139, Train Acc: 0.6348, Val Loss: 0.7948, Val Acc: 0.6485\n"
          ]
        },
        {
          "name": "stderr",
          "output_type": "stream",
          "text": [
            "Epoch 4/10: 100%|██████████| 8584/8584 [01:58<00:00, 72.65it/s]\n"
          ]
        },
        {
          "name": "stdout",
          "output_type": "stream",
          "text": [
            "[Epoch 4] Train Loss: 0.7907, Train Acc: 0.6494, Val Loss: 0.7794, Val Acc: 0.6586\n"
          ]
        },
        {
          "name": "stderr",
          "output_type": "stream",
          "text": [
            "Epoch 5/10: 100%|██████████| 8584/8584 [01:48<00:00, 79.25it/s] \n"
          ]
        },
        {
          "name": "stdout",
          "output_type": "stream",
          "text": [
            "[Epoch 5] Train Loss: 0.7720, Train Acc: 0.6602, Val Loss: 0.7660, Val Acc: 0.6638\n"
          ]
        },
        {
          "name": "stderr",
          "output_type": "stream",
          "text": [
            "Epoch 6/10: 100%|██████████| 8584/8584 [01:44<00:00, 82.38it/s] \n"
          ]
        },
        {
          "name": "stdout",
          "output_type": "stream",
          "text": [
            "[Epoch 6] Train Loss: 0.7566, Train Acc: 0.6691, Val Loss: 0.7596, Val Acc: 0.6727\n"
          ]
        },
        {
          "name": "stderr",
          "output_type": "stream",
          "text": [
            "Epoch 7/10: 100%|██████████| 8584/8584 [01:26<00:00, 98.94it/s] \n"
          ]
        },
        {
          "name": "stdout",
          "output_type": "stream",
          "text": [
            "[Epoch 7] Train Loss: 0.7518, Train Acc: 0.6719, Val Loss: 0.7561, Val Acc: 0.6697\n"
          ]
        },
        {
          "name": "stderr",
          "output_type": "stream",
          "text": [
            "Epoch 8/10: 100%|██████████| 8584/8584 [01:23<00:00, 103.00it/s]\n"
          ]
        },
        {
          "name": "stdout",
          "output_type": "stream",
          "text": [
            "[Epoch 8] Train Loss: 0.7333, Train Acc: 0.6823, Val Loss: 0.7497, Val Acc: 0.6784\n"
          ]
        },
        {
          "name": "stderr",
          "output_type": "stream",
          "text": [
            "Epoch 9/10: 100%|██████████| 8584/8584 [01:21<00:00, 105.97it/s]\n"
          ]
        },
        {
          "name": "stdout",
          "output_type": "stream",
          "text": [
            "[Epoch 9] Train Loss: 0.7206, Train Acc: 0.6895, Val Loss: 0.7458, Val Acc: 0.6784\n"
          ]
        },
        {
          "name": "stderr",
          "output_type": "stream",
          "text": [
            "Epoch 10/10: 100%|██████████| 8584/8584 [01:39<00:00, 86.27it/s] \n"
          ]
        },
        {
          "name": "stdout",
          "output_type": "stream",
          "text": [
            "[Epoch 10] Train Loss: 0.7075, Train Acc: 0.6962, Val Loss: 0.7469, Val Acc: 0.6771\n"
          ]
        }
      ],
      "source": [
        "###################################\n",
        "# 1) Initialize the Scratch Model\n",
        "###################################\n",
        "model_scratch = BiLSTMWithAttention(\n",
        "    vocab_size=len(word_to_index),  \n",
        "    embedding_dim=embedding_dim,    # e.g. 50, 100, 300, ...\n",
        "    hidden_dim=512,                 # LSTM hidden size\n",
        "    output_dim=3,                   # SNLI has 3 classes\n",
        "    embedding_matrix=None,         # No external embeddings used\n",
        "    use_pretrained=False,          # <-- signals random init\n",
        "    freeze_embeddings=False        # <-- typically still train them\n",
        ").to(device)\n",
        "\n",
        "###################################\n",
        "# 2) Train the Scratch Model\n",
        "###################################\n",
        "logs_scratch = train_and_evaluate(\n",
        "    model=model_scratch,\n",
        "    train_loader=train_loader,\n",
        "    val_loader=val_loader,\n",
        "    num_epochs=10,  \n",
        "    device=device\n",
        ")\n",
        "\n"
      ]
    },
    {
      "cell_type": "code",
      "execution_count": 69,
      "metadata": {},
      "outputs": [
        {
          "name": "stdout",
          "output_type": "stream",
          "text": [
            "Saved scratch model training logs to 'scratch_logs.csv'.\n"
          ]
        },
        {
          "data": {
            "image/png": "[encoded data removed]",
            "text/plain": [
              "<Figure size 1000x400 with 2 Axes>"
            ]
          },
          "metadata": {},
          "output_type": "display_data"
        }
      ],
      "source": [
        "###################################\n",
        "# 3) Convert Logs to DataFrame & Save\n",
        "###################################\n",
        "import pandas as pd\n",
        "\n",
        "epochs = range(1, len(logs_scratch[\"train_loss\"]) + 1)\n",
        "\n",
        "logs_scratch_df = pd.DataFrame({\n",
        "    \"epoch\": epochs,\n",
        "    \"train_loss\": logs_scratch[\"train_loss\"],\n",
        "    \"val_loss\": logs_scratch[\"val_loss\"],\n",
        "    \"train_acc\": logs_scratch[\"train_acc\"],\n",
        "    \"val_acc\": logs_scratch[\"val_acc\"]\n",
        "})\n",
        "\n",
        "logs_scratch_df.to_csv(\"scratch_logs.csv\", index=False)\n",
        "print(\"Saved scratch model training logs to 'scratch_logs.csv'.\")\n",
        "\n",
        "###################################\n",
        "# 4) Plot Training Curves\n",
        "###################################\n",
        "import matplotlib.pyplot as plt\n",
        "\n",
        "plt.figure(figsize=(10,4))\n",
        "\n",
        "# ---- Subplot 1: Loss vs. Epoch ----\n",
        "plt.subplot(1, 2, 1)\n",
        "plt.plot(epochs, logs_scratch_df[\"train_loss\"], label=\"Train Loss\", marker='o')\n",
        "plt.plot(epochs, logs_scratch_df[\"val_loss\"],   label=\"Val Loss\",   marker='o')\n",
        "plt.xlabel(\"Epoch\")\n",
        "plt.ylabel(\"Loss\")\n",
        "plt.title(\"Loss (Scratch Embeddings)\")\n",
        "plt.legend()\n",
        "\n",
        "# ---- Subplot 2: Accuracy vs. Epoch ----\n",
        "plt.subplot(1, 2, 2)\n",
        "plt.plot(epochs, logs_scratch_df[\"train_acc\"], label=\"Train Acc\", marker='o')\n",
        "plt.plot(epochs, logs_scratch_df[\"val_acc\"],   label=\"Val Acc\",   marker='o')\n",
        "plt.xlabel(\"Epoch\")\n",
        "plt.ylabel(\"Accuracy\")\n",
        "plt.title(\"Accuracy (Scratch Embeddings)\")\n",
        "plt.legend()\n",
        "\n",
        "plt.tight_layout()\n",
        "plt.show()\n",
        "\n",
        "\n"
      ]
    },
    {
      "cell_type": "code",
      "execution_count": 70,
      "metadata": {},
      "outputs": [
        {
          "name": "stdout",
          "output_type": "stream",
          "text": [
            "Scratch Model Test Accuracy: 0.6666\n"
          ]
        }
      ],
      "source": [
        "test_acc = evaluate(model_scratch, test_loader)\n",
        "print(f\"Scratch Model Test Accuracy: {test_acc:.4f}\")"
      ]
    },
    {
      "cell_type": "code",
      "execution_count": null,
      "metadata": {},
      "outputs": [],
      "source": []
    },
    {
      "cell_type": "code",
      "execution_count": null,
      "metadata": {},
      "outputs": [],
      "source": []
    },
    {
      "cell_type": "code",
      "execution_count": null,
      "metadata": {},
      "outputs": [],
      "source": []
    },
    {
      "cell_type": "code",
      "execution_count": null,
      "metadata": {},
      "outputs": [],
      "source": []
    },
    {
      "cell_type": "code",
      "execution_count": null,
      "metadata": {},
      "outputs": [],
      "source": []
    }
  ],
  "metadata": {
    "accelerator": "GPU",
    "colab": {
      "gpuType": "T4",
      "provenance": []
    },
    "kernelspec": {
      "display_name": "nlp1",
      "language": "python",
      "name": "python3"
    },
    "language_info": {
      "codemirror_mode": {
        "name": "ipython",
        "version": 3
      },
      "file_extension": ".py",
      "mimetype": "text/x-python",
      "name": "python",
      "nbconvert_exporter": "python",
      "pygments_lexer": "ipython3",
      "version": "3.10.16"
    },
    "widgets": {
      "application/vnd.jupyter.widget-state+json": {
        "02105f64848446dc81d3a9b4a507b08d": {
          "model_module": "@jupyter-widgets/base",
          "model_module_version": "1.2.0",
          "model_name": "LayoutModel",
          "state": {
            "_model_module": "@jupyter-widgets/base",
            "_model_module_version": "1.2.0",
            "_model_name": "LayoutModel",
            "_view_count": null,
            "_view_module": "@jupyter-widgets/base",
            "_view_module_version": "1.2.0",
            "_view_name": "LayoutView",
            "align_content": null,
            "align_items": null,
            "align_self": null,
            "border": null,
            "bottom": null,
            "display": null,
            "flex": null,
            "flex_flow": null,
            "grid_area": null,
            "grid_auto_columns": null,
            "grid_auto_flow": null,
            "grid_auto_rows": null,
            "grid_column": null,
            "grid_gap": null,
            "grid_row": null,
            "grid_template_areas": null,
            "grid_template_columns": null,
            "grid_template_rows": null,
            "height": null,
            "justify_content": null,
            "justify_items": null,
            "left": null,
            "margin": null,
            "max_height": null,
            "max_width": null,
            "min_height": null,
            "min_width": null,
            "object_fit": null,
            "object_position": null,
            "order": null,
            "overflow": null,
            "overflow_x": null,
            "overflow_y": null,
            "padding": null,
            "right": null,
            "top": null,
            "visibility": null,
            "width": null
          }
        },
        "0421b3f2c25148f1b2a2e85b6c041d19": {
          "model_module": "@jupyter-widgets/controls",
          "model_module_version": "1.5.0",
          "model_name": "HTMLModel",
          "state": {
            "_dom_classes": [],
            "_model_module": "@jupyter-widgets/controls",
            "_model_module_version": "1.5.0",
            "_model_name": "HTMLModel",
            "_view_count": null,
            "_view_module": "@jupyter-widgets/controls",
            "_view_module_version": "1.5.0",
            "_view_name": "HTMLView",
            "description": "",
            "description_tooltip": null,
            "layout": "IPY_MODEL_86e6587780c9427799f06740d804cb76",
            "placeholder": "​",
            "style": "IPY_MODEL_88adebec14d74bbfab7510fe8a84e896",
            "value": "Generating validation split: 100%"
          }
        },
        "056bb42c571b40b28bfa07f3bdd8fdf9": {
          "model_module": "@jupyter-widgets/controls",
          "model_module_version": "1.5.0",
          "model_name": "ProgressStyleModel",
          "state": {
            "_model_module": "@jupyter-widgets/controls",
            "_model_module_version": "1.5.0",
            "_model_name": "ProgressStyleModel",
            "_view_count": null,
            "_view_module": "@jupyter-widgets/base",
            "_view_module_version": "1.2.0",
            "_view_name": "StyleView",
            "bar_color": null,
            "description_width": ""
          }
        },
        "0576a218ef2743d4b66528d2d9ea9177": {
          "model_module": "@jupyter-widgets/controls",
          "model_module_version": "1.5.0",
          "model_name": "FloatProgressModel",
          "state": {
            "_dom_classes": [],
            "_model_module": "@jupyter-widgets/controls",
            "_model_module_version": "1.5.0",
            "_model_name": "FloatProgressModel",
            "_view_count": null,
            "_view_module": "@jupyter-widgets/controls",
            "_view_module_version": "1.5.0",
            "_view_name": "ProgressView",
            "bar_style": "success",
            "description": "",
            "description_tooltip": null,
            "layout": "IPY_MODEL_05df96fc2b3b43f68347a215ae1b9242",
            "max": 550152,
            "min": 0,
            "orientation": "horizontal",
            "style": "IPY_MODEL_1fb83d56e7a84f23a972686dc0b2d978",
            "value": 550152
          }
        },
        "05df96fc2b3b43f68347a215ae1b9242": {
          "model_module": "@jupyter-widgets/base",
          "model_module_version": "1.2.0",
          "model_name": "LayoutModel",
          "state": {
            "_model_module": "@jupyter-widgets/base",
            "_model_module_version": "1.2.0",
            "_model_name": "LayoutModel",
            "_view_count": null,
            "_view_module": "@jupyter-widgets/base",
            "_view_module_version": "1.2.0",
            "_view_name": "LayoutView",
            "align_content": null,
            "align_items": null,
            "align_self": null,
            "border": null,
            "bottom": null,
            "display": null,
            "flex": null,
            "flex_flow": null,
            "grid_area": null,
            "grid_auto_columns": null,
            "grid_auto_flow": null,
            "grid_auto_rows": null,
            "grid_column": null,
            "grid_gap": null,
            "grid_row": null,
            "grid_template_areas": null,
            "grid_template_columns": null,
            "grid_template_rows": null,
            "height": null,
            "justify_content": null,
            "justify_items": null,
            "left": null,
            "margin": null,
            "max_height": null,
            "max_width": null,
            "min_height": null,
            "min_width": null,
            "object_fit": null,
            "object_position": null,
            "order": null,
            "overflow": null,
            "overflow_x": null,
            "overflow_y": null,
            "padding": null,
            "right": null,
            "top": null,
            "visibility": null,
            "width": null
          }
        },
        "0cf7cf481d514ecea0872fbb6ff21382": {
          "model_module": "@jupyter-widgets/base",
          "model_module_version": "1.2.0",
          "model_name": "LayoutModel",
          "state": {
            "_model_module": "@jupyter-widgets/base",
            "_model_module_version": "1.2.0",
            "_model_name": "LayoutModel",
            "_view_count": null,
            "_view_module": "@jupyter-widgets/base",
            "_view_module_version": "1.2.0",
            "_view_name": "LayoutView",
            "align_content": null,
            "align_items": null,
            "align_self": null,
            "border": null,
            "bottom": null,
            "display": null,
            "flex": null,
            "flex_flow": null,
            "grid_area": null,
            "grid_auto_columns": null,
            "grid_auto_flow": null,
            "grid_auto_rows": null,
            "grid_column": null,
            "grid_gap": null,
            "grid_row": null,
            "grid_template_areas": null,
            "grid_template_columns": null,
            "grid_template_rows": null,
            "height": null,
            "justify_content": null,
            "justify_items": null,
            "left": null,
            "margin": null,
            "max_height": null,
            "max_width": null,
            "min_height": null,
            "min_width": null,
            "object_fit": null,
            "object_position": null,
            "order": null,
            "overflow": null,
            "overflow_x": null,
            "overflow_y": null,
            "padding": null,
            "right": null,
            "top": null,
            "visibility": null,
            "width": null
          }
        },
        "104f5add5b45469298fec350684ca932": {
          "model_module": "@jupyter-widgets/controls",
          "model_module_version": "1.5.0",
          "model_name": "HTMLModel",
          "state": {
            "_dom_classes": [],
            "_model_module": "@jupyter-widgets/controls",
            "_model_module_version": "1.5.0",
            "_model_name": "HTMLModel",
            "_view_count": null,
            "_view_module": "@jupyter-widgets/controls",
            "_view_module_version": "1.5.0",
            "_view_name": "HTMLView",
            "description": "",
            "description_tooltip": null,
            "layout": "IPY_MODEL_fc336c5173e64fb582331d9514f2a95c",
            "placeholder": "​",
            "style": "IPY_MODEL_e0b831d5bdcd412b89b20fd15dda013e",
            "value": "Generating test split: 100%"
          }
        },
        "12cd1737abc64eb18ee67f53e3861518": {
          "model_module": "@jupyter-widgets/controls",
          "model_module_version": "1.5.0",
          "model_name": "DescriptionStyleModel",
          "state": {
            "_model_module": "@jupyter-widgets/controls",
            "_model_module_version": "1.5.0",
            "_model_name": "DescriptionStyleModel",
            "_view_count": null,
            "_view_module": "@jupyter-widgets/base",
            "_view_module_version": "1.2.0",
            "_view_name": "StyleView",
            "description_width": ""
          }
        },
        "14c4efdffb64472f8c8de622d6d145b8": {
          "model_module": "@jupyter-widgets/controls",
          "model_module_version": "1.5.0",
          "model_name": "DescriptionStyleModel",
          "state": {
            "_model_module": "@jupyter-widgets/controls",
            "_model_module_version": "1.5.0",
            "_model_name": "DescriptionStyleModel",
            "_view_count": null,
            "_view_module": "@jupyter-widgets/base",
            "_view_module_version": "1.2.0",
            "_view_name": "StyleView",
            "description_width": ""
          }
        },
        "1743c389a8354ccbbd0f9553ff88c987": {
          "model_module": "@jupyter-widgets/controls",
          "model_module_version": "1.5.0",
          "model_name": "DescriptionStyleModel",
          "state": {
            "_model_module": "@jupyter-widgets/controls",
            "_model_module_version": "1.5.0",
            "_model_name": "DescriptionStyleModel",
            "_view_count": null,
            "_view_module": "@jupyter-widgets/base",
            "_view_module_version": "1.2.0",
            "_view_name": "StyleView",
            "description_width": ""
          }
        },
        "18dacea6aea9431c81b5f10a0264daa9": {
          "model_module": "@jupyter-widgets/controls",
          "model_module_version": "1.5.0",
          "model_name": "HBoxModel",
          "state": {
            "_dom_classes": [],
            "_model_module": "@jupyter-widgets/controls",
            "_model_module_version": "1.5.0",
            "_model_name": "HBoxModel",
            "_view_count": null,
            "_view_module": "@jupyter-widgets/controls",
            "_view_module_version": "1.5.0",
            "_view_name": "HBoxView",
            "box_style": "",
            "children": [
              "IPY_MODEL_104f5add5b45469298fec350684ca932",
              "IPY_MODEL_f1a0455550124afcbfd455e0fcf7bfec",
              "IPY_MODEL_6e9380ca8f4844238855d6346b2d4af1"
            ],
            "layout": "IPY_MODEL_58eaf22cc9ec49d88edf4ec93f01102d"
          }
        },
        "1b869bb3c25b4f3daf878afbb3bfe5a6": {
          "model_module": "@jupyter-widgets/controls",
          "model_module_version": "1.5.0",
          "model_name": "ProgressStyleModel",
          "state": {
            "_model_module": "@jupyter-widgets/controls",
            "_model_module_version": "1.5.0",
            "_model_name": "ProgressStyleModel",
            "_view_count": null,
            "_view_module": "@jupyter-widgets/base",
            "_view_module_version": "1.2.0",
            "_view_name": "StyleView",
            "bar_color": null,
            "description_width": ""
          }
        },
        "1c8a2f46fd154f26a9a2d0e48c85fb55": {
          "model_module": "@jupyter-widgets/controls",
          "model_module_version": "1.5.0",
          "model_name": "HTMLModel",
          "state": {
            "_dom_classes": [],
            "_model_module": "@jupyter-widgets/controls",
            "_model_module_version": "1.5.0",
            "_model_name": "HTMLModel",
            "_view_count": null,
            "_view_module": "@jupyter-widgets/controls",
            "_view_module_version": "1.5.0",
            "_view_name": "HTMLView",
            "description": "",
            "description_tooltip": null,
            "layout": "IPY_MODEL_02105f64848446dc81d3a9b4a507b08d",
            "placeholder": "​",
            "style": "IPY_MODEL_12cd1737abc64eb18ee67f53e3861518",
            "value": " 413k/413k [00:00&lt;00:00, 5.66MB/s]"
          }
        },
        "1fb83d56e7a84f23a972686dc0b2d978": {
          "model_module": "@jupyter-widgets/controls",
          "model_module_version": "1.5.0",
          "model_name": "ProgressStyleModel",
          "state": {
            "_model_module": "@jupyter-widgets/controls",
            "_model_module_version": "1.5.0",
            "_model_name": "ProgressStyleModel",
            "_view_count": null,
            "_view_module": "@jupyter-widgets/base",
            "_view_module_version": "1.2.0",
            "_view_name": "StyleView",
            "bar_color": null,
            "description_width": ""
          }
        },
        "21e7a870d4cd40d8a8afb44ba7c13d57": {
          "model_module": "@jupyter-widgets/controls",
          "model_module_version": "1.5.0",
          "model_name": "FloatProgressModel",
          "state": {
            "_dom_classes": [],
            "_model_module": "@jupyter-widgets/controls",
            "_model_module_version": "1.5.0",
            "_model_name": "FloatProgressModel",
            "_view_count": null,
            "_view_module": "@jupyter-widgets/controls",
            "_view_module_version": "1.5.0",
            "_view_name": "ProgressView",
            "bar_style": "success",
            "description": "",
            "description_tooltip": null,
            "layout": "IPY_MODEL_ca956e9ee7bd46868adda0cc17f16c12",
            "max": 411531,
            "min": 0,
            "orientation": "horizontal",
            "style": "IPY_MODEL_1b869bb3c25b4f3daf878afbb3bfe5a6",
            "value": 411531
          }
        },
        "239bf4f8bd76431b94a420b2a19aeac6": {
          "model_module": "@jupyter-widgets/base",
          "model_module_version": "1.2.0",
          "model_name": "LayoutModel",
          "state": {
            "_model_module": "@jupyter-widgets/base",
            "_model_module_version": "1.2.0",
            "_model_name": "LayoutModel",
            "_view_count": null,
            "_view_module": "@jupyter-widgets/base",
            "_view_module_version": "1.2.0",
            "_view_name": "LayoutView",
            "align_content": null,
            "align_items": null,
            "align_self": null,
            "border": null,
            "bottom": null,
            "display": null,
            "flex": null,
            "flex_flow": null,
            "grid_area": null,
            "grid_auto_columns": null,
            "grid_auto_flow": null,
            "grid_auto_rows": null,
            "grid_column": null,
            "grid_gap": null,
            "grid_row": null,
            "grid_template_areas": null,
            "grid_template_columns": null,
            "grid_template_rows": null,
            "height": null,
            "justify_content": null,
            "justify_items": null,
            "left": null,
            "margin": null,
            "max_height": null,
            "max_width": null,
            "min_height": null,
            "min_width": null,
            "object_fit": null,
            "object_position": null,
            "order": null,
            "overflow": null,
            "overflow_x": null,
            "overflow_y": null,
            "padding": null,
            "right": null,
            "top": null,
            "visibility": null,
            "width": null
          }
        },
        "261a924ec2934bb38a405081ddf89517": {
          "model_module": "@jupyter-widgets/controls",
          "model_module_version": "1.5.0",
          "model_name": "DescriptionStyleModel",
          "state": {
            "_model_module": "@jupyter-widgets/controls",
            "_model_module_version": "1.5.0",
            "_model_name": "DescriptionStyleModel",
            "_view_count": null,
            "_view_module": "@jupyter-widgets/base",
            "_view_module_version": "1.2.0",
            "_view_name": "StyleView",
            "description_width": ""
          }
        },
        "2dc33d910c9146d2ab4a46a718ca79da": {
          "model_module": "@jupyter-widgets/base",
          "model_module_version": "1.2.0",
          "model_name": "LayoutModel",
          "state": {
            "_model_module": "@jupyter-widgets/base",
            "_model_module_version": "1.2.0",
            "_model_name": "LayoutModel",
            "_view_count": null,
            "_view_module": "@jupyter-widgets/base",
            "_view_module_version": "1.2.0",
            "_view_name": "LayoutView",
            "align_content": null,
            "align_items": null,
            "align_self": null,
            "border": null,
            "bottom": null,
            "display": null,
            "flex": null,
            "flex_flow": null,
            "grid_area": null,
            "grid_auto_columns": null,
            "grid_auto_flow": null,
            "grid_auto_rows": null,
            "grid_column": null,
            "grid_gap": null,
            "grid_row": null,
            "grid_template_areas": null,
            "grid_template_columns": null,
            "grid_template_rows": null,
            "height": null,
            "justify_content": null,
            "justify_items": null,
            "left": null,
            "margin": null,
            "max_height": null,
            "max_width": null,
            "min_height": null,
            "min_width": null,
            "object_fit": null,
            "object_position": null,
            "order": null,
            "overflow": null,
            "overflow_x": null,
            "overflow_y": null,
            "padding": null,
            "right": null,
            "top": null,
            "visibility": null,
            "width": null
          }
        },
        "329a1421cbd647209772abeaeef4f81c": {
          "model_module": "@jupyter-widgets/controls",
          "model_module_version": "1.5.0",
          "model_name": "ProgressStyleModel",
          "state": {
            "_model_module": "@jupyter-widgets/controls",
            "_model_module_version": "1.5.0",
            "_model_name": "ProgressStyleModel",
            "_view_count": null,
            "_view_module": "@jupyter-widgets/base",
            "_view_module_version": "1.2.0",
            "_view_name": "StyleView",
            "bar_color": null,
            "description_width": ""
          }
        },
        "36e6502b95e94d0393dc3956aa25171e": {
          "model_module": "@jupyter-widgets/base",
          "model_module_version": "1.2.0",
          "model_name": "LayoutModel",
          "state": {
            "_model_module": "@jupyter-widgets/base",
            "_model_module_version": "1.2.0",
            "_model_name": "LayoutModel",
            "_view_count": null,
            "_view_module": "@jupyter-widgets/base",
            "_view_module_version": "1.2.0",
            "_view_name": "LayoutView",
            "align_content": null,
            "align_items": null,
            "align_self": null,
            "border": null,
            "bottom": null,
            "display": null,
            "flex": null,
            "flex_flow": null,
            "grid_area": null,
            "grid_auto_columns": null,
            "grid_auto_flow": null,
            "grid_auto_rows": null,
            "grid_column": null,
            "grid_gap": null,
            "grid_row": null,
            "grid_template_areas": null,
            "grid_template_columns": null,
            "grid_template_rows": null,
            "height": null,
            "justify_content": null,
            "justify_items": null,
            "left": null,
            "margin": null,
            "max_height": null,
            "max_width": null,
            "min_height": null,
            "min_width": null,
            "object_fit": null,
            "object_position": null,
            "order": null,
            "overflow": null,
            "overflow_x": null,
            "overflow_y": null,
            "padding": null,
            "right": null,
            "top": null,
            "visibility": null,
            "width": null
          }
        },
        "38be572e18734509ac8f2883bf46a27a": {
          "model_module": "@jupyter-widgets/controls",
          "model_module_version": "1.5.0",
          "model_name": "DescriptionStyleModel",
          "state": {
            "_model_module": "@jupyter-widgets/controls",
            "_model_module_version": "1.5.0",
            "_model_name": "DescriptionStyleModel",
            "_view_count": null,
            "_view_module": "@jupyter-widgets/base",
            "_view_module_version": "1.2.0",
            "_view_name": "StyleView",
            "description_width": ""
          }
        },
        "3cf900324e3549a19178f3eec8e5a4dc": {
          "model_module": "@jupyter-widgets/controls",
          "model_module_version": "1.5.0",
          "model_name": "DescriptionStyleModel",
          "state": {
            "_model_module": "@jupyter-widgets/controls",
            "_model_module_version": "1.5.0",
            "_model_name": "DescriptionStyleModel",
            "_view_count": null,
            "_view_module": "@jupyter-widgets/base",
            "_view_module_version": "1.2.0",
            "_view_name": "StyleView",
            "description_width": ""
          }
        },
        "42793cae249a4c05bae3ef4e5c7fd895": {
          "model_module": "@jupyter-widgets/base",
          "model_module_version": "1.2.0",
          "model_name": "LayoutModel",
          "state": {
            "_model_module": "@jupyter-widgets/base",
            "_model_module_version": "1.2.0",
            "_model_name": "LayoutModel",
            "_view_count": null,
            "_view_module": "@jupyter-widgets/base",
            "_view_module_version": "1.2.0",
            "_view_name": "LayoutView",
            "align_content": null,
            "align_items": null,
            "align_self": null,
            "border": null,
            "bottom": null,
            "display": null,
            "flex": null,
            "flex_flow": null,
            "grid_area": null,
            "grid_auto_columns": null,
            "grid_auto_flow": null,
            "grid_auto_rows": null,
            "grid_column": null,
            "grid_gap": null,
            "grid_row": null,
            "grid_template_areas": null,
            "grid_template_columns": null,
            "grid_template_rows": null,
            "height": null,
            "justify_content": null,
            "justify_items": null,
            "left": null,
            "margin": null,
            "max_height": null,
            "max_width": null,
            "min_height": null,
            "min_width": null,
            "object_fit": null,
            "object_position": null,
            "order": null,
            "overflow": null,
            "overflow_x": null,
            "overflow_y": null,
            "padding": null,
            "right": null,
            "top": null,
            "visibility": null,
            "width": null
          }
        },
        "47bc84f0151742a2a84099771007b90d": {
          "model_module": "@jupyter-widgets/base",
          "model_module_version": "1.2.0",
          "model_name": "LayoutModel",
          "state": {
            "_model_module": "@jupyter-widgets/base",
            "_model_module_version": "1.2.0",
            "_model_name": "LayoutModel",
            "_view_count": null,
            "_view_module": "@jupyter-widgets/base",
            "_view_module_version": "1.2.0",
            "_view_name": "LayoutView",
            "align_content": null,
            "align_items": null,
            "align_self": null,
            "border": null,
            "bottom": null,
            "display": null,
            "flex": null,
            "flex_flow": null,
            "grid_area": null,
            "grid_auto_columns": null,
            "grid_auto_flow": null,
            "grid_auto_rows": null,
            "grid_column": null,
            "grid_gap": null,
            "grid_row": null,
            "grid_template_areas": null,
            "grid_template_columns": null,
            "grid_template_rows": null,
            "height": null,
            "justify_content": null,
            "justify_items": null,
            "left": null,
            "margin": null,
            "max_height": null,
            "max_width": null,
            "min_height": null,
            "min_width": null,
            "object_fit": null,
            "object_position": null,
            "order": null,
            "overflow": null,
            "overflow_x": null,
            "overflow_y": null,
            "padding": null,
            "right": null,
            "top": null,
            "visibility": null,
            "width": null
          }
        },
        "48632ed4c77f4c709eb3723882379875": {
          "model_module": "@jupyter-widgets/base",
          "model_module_version": "1.2.0",
          "model_name": "LayoutModel",
          "state": {
            "_model_module": "@jupyter-widgets/base",
            "_model_module_version": "1.2.0",
            "_model_name": "LayoutModel",
            "_view_count": null,
            "_view_module": "@jupyter-widgets/base",
            "_view_module_version": "1.2.0",
            "_view_name": "LayoutView",
            "align_content": null,
            "align_items": null,
            "align_self": null,
            "border": null,
            "bottom": null,
            "display": null,
            "flex": null,
            "flex_flow": null,
            "grid_area": null,
            "grid_auto_columns": null,
            "grid_auto_flow": null,
            "grid_auto_rows": null,
            "grid_column": null,
            "grid_gap": null,
            "grid_row": null,
            "grid_template_areas": null,
            "grid_template_columns": null,
            "grid_template_rows": null,
            "height": null,
            "justify_content": null,
            "justify_items": null,
            "left": null,
            "margin": null,
            "max_height": null,
            "max_width": null,
            "min_height": null,
            "min_width": null,
            "object_fit": null,
            "object_position": null,
            "order": null,
            "overflow": null,
            "overflow_x": null,
            "overflow_y": null,
            "padding": null,
            "right": null,
            "top": null,
            "visibility": null,
            "width": null
          }
        },
        "48b8719edb14420aaba1f0df89434389": {
          "model_module": "@jupyter-widgets/controls",
          "model_module_version": "1.5.0",
          "model_name": "HTMLModel",
          "state": {
            "_dom_classes": [],
            "_model_module": "@jupyter-widgets/controls",
            "_model_module_version": "1.5.0",
            "_model_name": "HTMLModel",
            "_view_count": null,
            "_view_module": "@jupyter-widgets/controls",
            "_view_module_version": "1.5.0",
            "_view_name": "HTMLView",
            "description": "",
            "description_tooltip": null,
            "layout": "IPY_MODEL_4d5e8cc912a94d84a577c76ce23d1634",
            "placeholder": "​",
            "style": "IPY_MODEL_524383ba2f1b462294086f720e7b906c",
            "value": " 19.6M/19.6M [00:00&lt;00:00, 23.9MB/s]"
          }
        },
        "4d5e8cc912a94d84a577c76ce23d1634": {
          "model_module": "@jupyter-widgets/base",
          "model_module_version": "1.2.0",
          "model_name": "LayoutModel",
          "state": {
            "_model_module": "@jupyter-widgets/base",
            "_model_module_version": "1.2.0",
            "_model_name": "LayoutModel",
            "_view_count": null,
            "_view_module": "@jupyter-widgets/base",
            "_view_module_version": "1.2.0",
            "_view_name": "LayoutView",
            "align_content": null,
            "align_items": null,
            "align_self": null,
            "border": null,
            "bottom": null,
            "display": null,
            "flex": null,
            "flex_flow": null,
            "grid_area": null,
            "grid_auto_columns": null,
            "grid_auto_flow": null,
            "grid_auto_rows": null,
            "grid_column": null,
            "grid_gap": null,
            "grid_row": null,
            "grid_template_areas": null,
            "grid_template_columns": null,
            "grid_template_rows": null,
            "height": null,
            "justify_content": null,
            "justify_items": null,
            "left": null,
            "margin": null,
            "max_height": null,
            "max_width": null,
            "min_height": null,
            "min_width": null,
            "object_fit": null,
            "object_position": null,
            "order": null,
            "overflow": null,
            "overflow_x": null,
            "overflow_y": null,
            "padding": null,
            "right": null,
            "top": null,
            "visibility": null,
            "width": null
          }
        },
        "4fe73aaa532a48df9af96ae917b2f708": {
          "model_module": "@jupyter-widgets/controls",
          "model_module_version": "1.5.0",
          "model_name": "FloatProgressModel",
          "state": {
            "_dom_classes": [],
            "_model_module": "@jupyter-widgets/controls",
            "_model_module_version": "1.5.0",
            "_model_name": "FloatProgressModel",
            "_view_count": null,
            "_view_module": "@jupyter-widgets/controls",
            "_view_module_version": "1.5.0",
            "_view_name": "ProgressView",
            "bar_style": "success",
            "description": "",
            "description_tooltip": null,
            "layout": "IPY_MODEL_b47878c7580143b196e2299cde905cbd",
            "max": 413157,
            "min": 0,
            "orientation": "horizontal",
            "style": "IPY_MODEL_500a530fc15845a3906d4b3aaeb57275",
            "value": 413157
          }
        },
        "500a530fc15845a3906d4b3aaeb57275": {
          "model_module": "@jupyter-widgets/controls",
          "model_module_version": "1.5.0",
          "model_name": "ProgressStyleModel",
          "state": {
            "_model_module": "@jupyter-widgets/controls",
            "_model_module_version": "1.5.0",
            "_model_name": "ProgressStyleModel",
            "_view_count": null,
            "_view_module": "@jupyter-widgets/base",
            "_view_module_version": "1.2.0",
            "_view_name": "StyleView",
            "bar_color": null,
            "description_width": ""
          }
        },
        "524383ba2f1b462294086f720e7b906c": {
          "model_module": "@jupyter-widgets/controls",
          "model_module_version": "1.5.0",
          "model_name": "DescriptionStyleModel",
          "state": {
            "_model_module": "@jupyter-widgets/controls",
            "_model_module_version": "1.5.0",
            "_model_name": "DescriptionStyleModel",
            "_view_count": null,
            "_view_module": "@jupyter-widgets/base",
            "_view_module_version": "1.2.0",
            "_view_name": "StyleView",
            "description_width": ""
          }
        },
        "53f6196803074243b898f0a83a42677c": {
          "model_module": "@jupyter-widgets/controls",
          "model_module_version": "1.5.0",
          "model_name": "HTMLModel",
          "state": {
            "_dom_classes": [],
            "_model_module": "@jupyter-widgets/controls",
            "_model_module_version": "1.5.0",
            "_model_name": "HTMLModel",
            "_view_count": null,
            "_view_module": "@jupyter-widgets/controls",
            "_view_module_version": "1.5.0",
            "_view_name": "HTMLView",
            "description": "",
            "description_tooltip": null,
            "layout": "IPY_MODEL_e4ae607d87e34cddaface6da924a43d9",
            "placeholder": "​",
            "style": "IPY_MODEL_14c4efdffb64472f8c8de622d6d145b8",
            "value": " 10000/10000 [00:00&lt;00:00, 280437.27 examples/s]"
          }
        },
        "54ab665cb9ae44a68ea31557cac360ab": {
          "model_module": "@jupyter-widgets/controls",
          "model_module_version": "1.5.0",
          "model_name": "HTMLModel",
          "state": {
            "_dom_classes": [],
            "_model_module": "@jupyter-widgets/controls",
            "_model_module_version": "1.5.0",
            "_model_name": "HTMLModel",
            "_view_count": null,
            "_view_module": "@jupyter-widgets/controls",
            "_view_module_version": "1.5.0",
            "_view_name": "HTMLView",
            "description": "",
            "description_tooltip": null,
            "layout": "IPY_MODEL_dd809ff0d4c748ad952a89a9f2b750df",
            "placeholder": "​",
            "style": "IPY_MODEL_99174f667b474fc294074b579ed1225c",
            "value": "Generating train split: 100%"
          }
        },
        "565e528778ed4c309650a7c24e192fdd": {
          "model_module": "@jupyter-widgets/controls",
          "model_module_version": "1.5.0",
          "model_name": "HTMLModel",
          "state": {
            "_dom_classes": [],
            "_model_module": "@jupyter-widgets/controls",
            "_model_module_version": "1.5.0",
            "_model_name": "HTMLModel",
            "_view_count": null,
            "_view_module": "@jupyter-widgets/controls",
            "_view_module_version": "1.5.0",
            "_view_name": "HTMLView",
            "description": "",
            "description_tooltip": null,
            "layout": "IPY_MODEL_2dc33d910c9146d2ab4a46a718ca79da",
            "placeholder": "​",
            "style": "IPY_MODEL_3cf900324e3549a19178f3eec8e5a4dc",
            "value": "test-00000-of-00001.parquet: 100%"
          }
        },
        "58eaf22cc9ec49d88edf4ec93f01102d": {
          "model_module": "@jupyter-widgets/base",
          "model_module_version": "1.2.0",
          "model_name": "LayoutModel",
          "state": {
            "_model_module": "@jupyter-widgets/base",
            "_model_module_version": "1.2.0",
            "_model_name": "LayoutModel",
            "_view_count": null,
            "_view_module": "@jupyter-widgets/base",
            "_view_module_version": "1.2.0",
            "_view_name": "LayoutView",
            "align_content": null,
            "align_items": null,
            "align_self": null,
            "border": null,
            "bottom": null,
            "display": null,
            "flex": null,
            "flex_flow": null,
            "grid_area": null,
            "grid_auto_columns": null,
            "grid_auto_flow": null,
            "grid_auto_rows": null,
            "grid_column": null,
            "grid_gap": null,
            "grid_row": null,
            "grid_template_areas": null,
            "grid_template_columns": null,
            "grid_template_rows": null,
            "height": null,
            "justify_content": null,
            "justify_items": null,
            "left": null,
            "margin": null,
            "max_height": null,
            "max_width": null,
            "min_height": null,
            "min_width": null,
            "object_fit": null,
            "object_position": null,
            "order": null,
            "overflow": null,
            "overflow_x": null,
            "overflow_y": null,
            "padding": null,
            "right": null,
            "top": null,
            "visibility": null,
            "width": null
          }
        },
        "59a1fe5a2d6a48e7b488bae1f938b02a": {
          "model_module": "@jupyter-widgets/controls",
          "model_module_version": "1.5.0",
          "model_name": "ProgressStyleModel",
          "state": {
            "_model_module": "@jupyter-widgets/controls",
            "_model_module_version": "1.5.0",
            "_model_name": "ProgressStyleModel",
            "_view_count": null,
            "_view_module": "@jupyter-widgets/base",
            "_view_module_version": "1.2.0",
            "_view_name": "StyleView",
            "bar_color": null,
            "description_width": ""
          }
        },
        "59dfeefd5f0f41b3bec6b8622480b323": {
          "model_module": "@jupyter-widgets/controls",
          "model_module_version": "1.5.0",
          "model_name": "ProgressStyleModel",
          "state": {
            "_model_module": "@jupyter-widgets/controls",
            "_model_module_version": "1.5.0",
            "_model_name": "ProgressStyleModel",
            "_view_count": null,
            "_view_module": "@jupyter-widgets/base",
            "_view_module_version": "1.2.0",
            "_view_name": "StyleView",
            "bar_color": null,
            "description_width": ""
          }
        },
        "62e687b796c44adf9c78bf1db7a60250": {
          "model_module": "@jupyter-widgets/base",
          "model_module_version": "1.2.0",
          "model_name": "LayoutModel",
          "state": {
            "_model_module": "@jupyter-widgets/base",
            "_model_module_version": "1.2.0",
            "_model_name": "LayoutModel",
            "_view_count": null,
            "_view_module": "@jupyter-widgets/base",
            "_view_module_version": "1.2.0",
            "_view_name": "LayoutView",
            "align_content": null,
            "align_items": null,
            "align_self": null,
            "border": null,
            "bottom": null,
            "display": null,
            "flex": null,
            "flex_flow": null,
            "grid_area": null,
            "grid_auto_columns": null,
            "grid_auto_flow": null,
            "grid_auto_rows": null,
            "grid_column": null,
            "grid_gap": null,
            "grid_row": null,
            "grid_template_areas": null,
            "grid_template_columns": null,
            "grid_template_rows": null,
            "height": null,
            "justify_content": null,
            "justify_items": null,
            "left": null,
            "margin": null,
            "max_height": null,
            "max_width": null,
            "min_height": null,
            "min_width": null,
            "object_fit": null,
            "object_position": null,
            "order": null,
            "overflow": null,
            "overflow_x": null,
            "overflow_y": null,
            "padding": null,
            "right": null,
            "top": null,
            "visibility": null,
            "width": null
          }
        },
        "655a185c97314d768449c1b80957d310": {
          "model_module": "@jupyter-widgets/base",
          "model_module_version": "1.2.0",
          "model_name": "LayoutModel",
          "state": {
            "_model_module": "@jupyter-widgets/base",
            "_model_module_version": "1.2.0",
            "_model_name": "LayoutModel",
            "_view_count": null,
            "_view_module": "@jupyter-widgets/base",
            "_view_module_version": "1.2.0",
            "_view_name": "LayoutView",
            "align_content": null,
            "align_items": null,
            "align_self": null,
            "border": null,
            "bottom": null,
            "display": null,
            "flex": null,
            "flex_flow": null,
            "grid_area": null,
            "grid_auto_columns": null,
            "grid_auto_flow": null,
            "grid_auto_rows": null,
            "grid_column": null,
            "grid_gap": null,
            "grid_row": null,
            "grid_template_areas": null,
            "grid_template_columns": null,
            "grid_template_rows": null,
            "height": null,
            "justify_content": null,
            "justify_items": null,
            "left": null,
            "margin": null,
            "max_height": null,
            "max_width": null,
            "min_height": null,
            "min_width": null,
            "object_fit": null,
            "object_position": null,
            "order": null,
            "overflow": null,
            "overflow_x": null,
            "overflow_y": null,
            "padding": null,
            "right": null,
            "top": null,
            "visibility": null,
            "width": null
          }
        },
        "68d5f663ab7f4de5a57a3f108268facb": {
          "model_module": "@jupyter-widgets/controls",
          "model_module_version": "1.5.0",
          "model_name": "HBoxModel",
          "state": {
            "_dom_classes": [],
            "_model_module": "@jupyter-widgets/controls",
            "_model_module_version": "1.5.0",
            "_model_name": "HBoxModel",
            "_view_count": null,
            "_view_module": "@jupyter-widgets/controls",
            "_view_module_version": "1.5.0",
            "_view_name": "HBoxView",
            "box_style": "",
            "children": [
              "IPY_MODEL_f00c1664f1c54002aa7717005e41964a",
              "IPY_MODEL_4fe73aaa532a48df9af96ae917b2f708",
              "IPY_MODEL_1c8a2f46fd154f26a9a2d0e48c85fb55"
            ],
            "layout": "IPY_MODEL_655a185c97314d768449c1b80957d310"
          }
        },
        "6e9380ca8f4844238855d6346b2d4af1": {
          "model_module": "@jupyter-widgets/controls",
          "model_module_version": "1.5.0",
          "model_name": "HTMLModel",
          "state": {
            "_dom_classes": [],
            "_model_module": "@jupyter-widgets/controls",
            "_model_module_version": "1.5.0",
            "_model_name": "HTMLModel",
            "_view_count": null,
            "_view_module": "@jupyter-widgets/controls",
            "_view_module_version": "1.5.0",
            "_view_name": "HTMLView",
            "description": "",
            "description_tooltip": null,
            "layout": "IPY_MODEL_ffeaedfedcbd40b2865073f3b99f44bd",
            "placeholder": "​",
            "style": "IPY_MODEL_ccc30458051c479aa7b9b05ad0f42459",
            "value": " 10000/10000 [00:00&lt;00:00, 182224.77 examples/s]"
          }
        },
        "740075e1edb3435bab7d4531ed3be4b6": {
          "model_module": "@jupyter-widgets/controls",
          "model_module_version": "1.5.0",
          "model_name": "HBoxModel",
          "state": {
            "_dom_classes": [],
            "_model_module": "@jupyter-widgets/controls",
            "_model_module_version": "1.5.0",
            "_model_name": "HBoxModel",
            "_view_count": null,
            "_view_module": "@jupyter-widgets/controls",
            "_view_module_version": "1.5.0",
            "_view_name": "HBoxView",
            "box_style": "",
            "children": [
              "IPY_MODEL_54ab665cb9ae44a68ea31557cac360ab",
              "IPY_MODEL_0576a218ef2743d4b66528d2d9ea9177",
              "IPY_MODEL_d82aa0f63fba4e18b35f0c7d10eeee15"
            ],
            "layout": "IPY_MODEL_763a1867eee54f588129dd42e04dd207"
          }
        },
        "763a1867eee54f588129dd42e04dd207": {
          "model_module": "@jupyter-widgets/base",
          "model_module_version": "1.2.0",
          "model_name": "LayoutModel",
          "state": {
            "_model_module": "@jupyter-widgets/base",
            "_model_module_version": "1.2.0",
            "_model_name": "LayoutModel",
            "_view_count": null,
            "_view_module": "@jupyter-widgets/base",
            "_view_module_version": "1.2.0",
            "_view_name": "LayoutView",
            "align_content": null,
            "align_items": null,
            "align_self": null,
            "border": null,
            "bottom": null,
            "display": null,
            "flex": null,
            "flex_flow": null,
            "grid_area": null,
            "grid_auto_columns": null,
            "grid_auto_flow": null,
            "grid_auto_rows": null,
            "grid_column": null,
            "grid_gap": null,
            "grid_row": null,
            "grid_template_areas": null,
            "grid_template_columns": null,
            "grid_template_rows": null,
            "height": null,
            "justify_content": null,
            "justify_items": null,
            "left": null,
            "margin": null,
            "max_height": null,
            "max_width": null,
            "min_height": null,
            "min_width": null,
            "object_fit": null,
            "object_position": null,
            "order": null,
            "overflow": null,
            "overflow_x": null,
            "overflow_y": null,
            "padding": null,
            "right": null,
            "top": null,
            "visibility": null,
            "width": null
          }
        },
        "7e933f689bca4829a9947ac6496337f2": {
          "model_module": "@jupyter-widgets/base",
          "model_module_version": "1.2.0",
          "model_name": "LayoutModel",
          "state": {
            "_model_module": "@jupyter-widgets/base",
            "_model_module_version": "1.2.0",
            "_model_name": "LayoutModel",
            "_view_count": null,
            "_view_module": "@jupyter-widgets/base",
            "_view_module_version": "1.2.0",
            "_view_name": "LayoutView",
            "align_content": null,
            "align_items": null,
            "align_self": null,
            "border": null,
            "bottom": null,
            "display": null,
            "flex": null,
            "flex_flow": null,
            "grid_area": null,
            "grid_auto_columns": null,
            "grid_auto_flow": null,
            "grid_auto_rows": null,
            "grid_column": null,
            "grid_gap": null,
            "grid_row": null,
            "grid_template_areas": null,
            "grid_template_columns": null,
            "grid_template_rows": null,
            "height": null,
            "justify_content": null,
            "justify_items": null,
            "left": null,
            "margin": null,
            "max_height": null,
            "max_width": null,
            "min_height": null,
            "min_width": null,
            "object_fit": null,
            "object_position": null,
            "order": null,
            "overflow": null,
            "overflow_x": null,
            "overflow_y": null,
            "padding": null,
            "right": null,
            "top": null,
            "visibility": null,
            "width": null
          }
        },
        "86e6587780c9427799f06740d804cb76": {
          "model_module": "@jupyter-widgets/base",
          "model_module_version": "1.2.0",
          "model_name": "LayoutModel",
          "state": {
            "_model_module": "@jupyter-widgets/base",
            "_model_module_version": "1.2.0",
            "_model_name": "LayoutModel",
            "_view_count": null,
            "_view_module": "@jupyter-widgets/base",
            "_view_module_version": "1.2.0",
            "_view_name": "LayoutView",
            "align_content": null,
            "align_items": null,
            "align_self": null,
            "border": null,
            "bottom": null,
            "display": null,
            "flex": null,
            "flex_flow": null,
            "grid_area": null,
            "grid_auto_columns": null,
            "grid_auto_flow": null,
            "grid_auto_rows": null,
            "grid_column": null,
            "grid_gap": null,
            "grid_row": null,
            "grid_template_areas": null,
            "grid_template_columns": null,
            "grid_template_rows": null,
            "height": null,
            "justify_content": null,
            "justify_items": null,
            "left": null,
            "margin": null,
            "max_height": null,
            "max_width": null,
            "min_height": null,
            "min_width": null,
            "object_fit": null,
            "object_position": null,
            "order": null,
            "overflow": null,
            "overflow_x": null,
            "overflow_y": null,
            "padding": null,
            "right": null,
            "top": null,
            "visibility": null,
            "width": null
          }
        },
        "88adebec14d74bbfab7510fe8a84e896": {
          "model_module": "@jupyter-widgets/controls",
          "model_module_version": "1.5.0",
          "model_name": "DescriptionStyleModel",
          "state": {
            "_model_module": "@jupyter-widgets/controls",
            "_model_module_version": "1.5.0",
            "_model_name": "DescriptionStyleModel",
            "_view_count": null,
            "_view_module": "@jupyter-widgets/base",
            "_view_module_version": "1.2.0",
            "_view_name": "StyleView",
            "description_width": ""
          }
        },
        "8d8d827040ae478cab280da9a6d3fc43": {
          "model_module": "@jupyter-widgets/controls",
          "model_module_version": "1.5.0",
          "model_name": "HBoxModel",
          "state": {
            "_dom_classes": [],
            "_model_module": "@jupyter-widgets/controls",
            "_model_module_version": "1.5.0",
            "_model_name": "HBoxModel",
            "_view_count": null,
            "_view_module": "@jupyter-widgets/controls",
            "_view_module_version": "1.5.0",
            "_view_name": "HBoxView",
            "box_style": "",
            "children": [
              "IPY_MODEL_565e528778ed4c309650a7c24e192fdd",
              "IPY_MODEL_21e7a870d4cd40d8a8afb44ba7c13d57",
              "IPY_MODEL_cb8351782cb84fff8389c4148f0a4e4e"
            ],
            "layout": "IPY_MODEL_42793cae249a4c05bae3ef4e5c7fd895"
          }
        },
        "92715c5f41a3451780c7ce0535f76400": {
          "model_module": "@jupyter-widgets/controls",
          "model_module_version": "1.5.0",
          "model_name": "FloatProgressModel",
          "state": {
            "_dom_classes": [],
            "_model_module": "@jupyter-widgets/controls",
            "_model_module_version": "1.5.0",
            "_model_name": "FloatProgressModel",
            "_view_count": null,
            "_view_module": "@jupyter-widgets/controls",
            "_view_module_version": "1.5.0",
            "_view_name": "ProgressView",
            "bar_style": "success",
            "description": "",
            "description_tooltip": null,
            "layout": "IPY_MODEL_47bc84f0151742a2a84099771007b90d",
            "max": 10000,
            "min": 0,
            "orientation": "horizontal",
            "style": "IPY_MODEL_329a1421cbd647209772abeaeef4f81c",
            "value": 10000
          }
        },
        "99174f667b474fc294074b579ed1225c": {
          "model_module": "@jupyter-widgets/controls",
          "model_module_version": "1.5.0",
          "model_name": "DescriptionStyleModel",
          "state": {
            "_model_module": "@jupyter-widgets/controls",
            "_model_module_version": "1.5.0",
            "_model_name": "DescriptionStyleModel",
            "_view_count": null,
            "_view_module": "@jupyter-widgets/base",
            "_view_module_version": "1.2.0",
            "_view_name": "StyleView",
            "description_width": ""
          }
        },
        "9ac654c27be5419e8be5bf971c7c18bf": {
          "model_module": "@jupyter-widgets/controls",
          "model_module_version": "1.5.0",
          "model_name": "HBoxModel",
          "state": {
            "_dom_classes": [],
            "_model_module": "@jupyter-widgets/controls",
            "_model_module_version": "1.5.0",
            "_model_name": "HBoxModel",
            "_view_count": null,
            "_view_module": "@jupyter-widgets/controls",
            "_view_module_version": "1.5.0",
            "_view_name": "HBoxView",
            "box_style": "",
            "children": [
              "IPY_MODEL_c722c87a22814dcd9872c5dc1b3f688b",
              "IPY_MODEL_bfb1a6140b164092bfca68ec44145275",
              "IPY_MODEL_48b8719edb14420aaba1f0df89434389"
            ],
            "layout": "IPY_MODEL_48632ed4c77f4c709eb3723882379875"
          }
        },
        "9e79da4e8e5146d99080c2cc7a82b74e": {
          "model_module": "@jupyter-widgets/controls",
          "model_module_version": "1.5.0",
          "model_name": "HTMLModel",
          "state": {
            "_dom_classes": [],
            "_model_module": "@jupyter-widgets/controls",
            "_model_module_version": "1.5.0",
            "_model_name": "HTMLModel",
            "_view_count": null,
            "_view_module": "@jupyter-widgets/controls",
            "_view_module_version": "1.5.0",
            "_view_name": "HTMLView",
            "description": "",
            "description_tooltip": null,
            "layout": "IPY_MODEL_239bf4f8bd76431b94a420b2a19aeac6",
            "placeholder": "​",
            "style": "IPY_MODEL_d7c826c0dbab4d3aa99349b3cf01882c",
            "value": " 16.0k/16.0k [00:00&lt;00:00, 330kB/s]"
          }
        },
        "b0fee5d2def54b82aed15151ff3eee74": {
          "model_module": "@jupyter-widgets/controls",
          "model_module_version": "1.5.0",
          "model_name": "HTMLModel",
          "state": {
            "_dom_classes": [],
            "_model_module": "@jupyter-widgets/controls",
            "_model_module_version": "1.5.0",
            "_model_name": "HTMLModel",
            "_view_count": null,
            "_view_module": "@jupyter-widgets/controls",
            "_view_module_version": "1.5.0",
            "_view_name": "HTMLView",
            "description": "",
            "description_tooltip": null,
            "layout": "IPY_MODEL_0cf7cf481d514ecea0872fbb6ff21382",
            "placeholder": "​",
            "style": "IPY_MODEL_f768aebecf6249f9b8dea2c16f591f99",
            "value": "README.md: 100%"
          }
        },
        "b21dbe4b0b3f4316a556a48023c7ef85": {
          "model_module": "@jupyter-widgets/controls",
          "model_module_version": "1.5.0",
          "model_name": "FloatProgressModel",
          "state": {
            "_dom_classes": [],
            "_model_module": "@jupyter-widgets/controls",
            "_model_module_version": "1.5.0",
            "_model_name": "FloatProgressModel",
            "_view_count": null,
            "_view_module": "@jupyter-widgets/controls",
            "_view_module_version": "1.5.0",
            "_view_name": "ProgressView",
            "bar_style": "success",
            "description": "",
            "description_tooltip": null,
            "layout": "IPY_MODEL_d02b39c89bf64d1a8be019dae1f5e487",
            "max": 15970,
            "min": 0,
            "orientation": "horizontal",
            "style": "IPY_MODEL_056bb42c571b40b28bfa07f3bdd8fdf9",
            "value": 15970
          }
        },
        "b47878c7580143b196e2299cde905cbd": {
          "model_module": "@jupyter-widgets/base",
          "model_module_version": "1.2.0",
          "model_name": "LayoutModel",
          "state": {
            "_model_module": "@jupyter-widgets/base",
            "_model_module_version": "1.2.0",
            "_model_name": "LayoutModel",
            "_view_count": null,
            "_view_module": "@jupyter-widgets/base",
            "_view_module_version": "1.2.0",
            "_view_name": "LayoutView",
            "align_content": null,
            "align_items": null,
            "align_self": null,
            "border": null,
            "bottom": null,
            "display": null,
            "flex": null,
            "flex_flow": null,
            "grid_area": null,
            "grid_auto_columns": null,
            "grid_auto_flow": null,
            "grid_auto_rows": null,
            "grid_column": null,
            "grid_gap": null,
            "grid_row": null,
            "grid_template_areas": null,
            "grid_template_columns": null,
            "grid_template_rows": null,
            "height": null,
            "justify_content": null,
            "justify_items": null,
            "left": null,
            "margin": null,
            "max_height": null,
            "max_width": null,
            "min_height": null,
            "min_width": null,
            "object_fit": null,
            "object_position": null,
            "order": null,
            "overflow": null,
            "overflow_x": null,
            "overflow_y": null,
            "padding": null,
            "right": null,
            "top": null,
            "visibility": null,
            "width": null
          }
        },
        "beb1d4de071a44b2af191403a6784680": {
          "model_module": "@jupyter-widgets/controls",
          "model_module_version": "1.5.0",
          "model_name": "DescriptionStyleModel",
          "state": {
            "_model_module": "@jupyter-widgets/controls",
            "_model_module_version": "1.5.0",
            "_model_name": "DescriptionStyleModel",
            "_view_count": null,
            "_view_module": "@jupyter-widgets/base",
            "_view_module_version": "1.2.0",
            "_view_name": "StyleView",
            "description_width": ""
          }
        },
        "bfb1a6140b164092bfca68ec44145275": {
          "model_module": "@jupyter-widgets/controls",
          "model_module_version": "1.5.0",
          "model_name": "FloatProgressModel",
          "state": {
            "_dom_classes": [],
            "_model_module": "@jupyter-widgets/controls",
            "_model_module_version": "1.5.0",
            "_model_name": "FloatProgressModel",
            "_view_count": null,
            "_view_module": "@jupyter-widgets/controls",
            "_view_module_version": "1.5.0",
            "_view_name": "ProgressView",
            "bar_style": "success",
            "description": "",
            "description_tooltip": null,
            "layout": "IPY_MODEL_c6a1f5ac16634298b31d9f01478b0736",
            "max": 19614612,
            "min": 0,
            "orientation": "horizontal",
            "style": "IPY_MODEL_59dfeefd5f0f41b3bec6b8622480b323",
            "value": 19614612
          }
        },
        "c6a1f5ac16634298b31d9f01478b0736": {
          "model_module": "@jupyter-widgets/base",
          "model_module_version": "1.2.0",
          "model_name": "LayoutModel",
          "state": {
            "_model_module": "@jupyter-widgets/base",
            "_model_module_version": "1.2.0",
            "_model_name": "LayoutModel",
            "_view_count": null,
            "_view_module": "@jupyter-widgets/base",
            "_view_module_version": "1.2.0",
            "_view_name": "LayoutView",
            "align_content": null,
            "align_items": null,
            "align_self": null,
            "border": null,
            "bottom": null,
            "display": null,
            "flex": null,
            "flex_flow": null,
            "grid_area": null,
            "grid_auto_columns": null,
            "grid_auto_flow": null,
            "grid_auto_rows": null,
            "grid_column": null,
            "grid_gap": null,
            "grid_row": null,
            "grid_template_areas": null,
            "grid_template_columns": null,
            "grid_template_rows": null,
            "height": null,
            "justify_content": null,
            "justify_items": null,
            "left": null,
            "margin": null,
            "max_height": null,
            "max_width": null,
            "min_height": null,
            "min_width": null,
            "object_fit": null,
            "object_position": null,
            "order": null,
            "overflow": null,
            "overflow_x": null,
            "overflow_y": null,
            "padding": null,
            "right": null,
            "top": null,
            "visibility": null,
            "width": null
          }
        },
        "c722c87a22814dcd9872c5dc1b3f688b": {
          "model_module": "@jupyter-widgets/controls",
          "model_module_version": "1.5.0",
          "model_name": "HTMLModel",
          "state": {
            "_dom_classes": [],
            "_model_module": "@jupyter-widgets/controls",
            "_model_module_version": "1.5.0",
            "_model_name": "HTMLModel",
            "_view_count": null,
            "_view_module": "@jupyter-widgets/controls",
            "_view_module_version": "1.5.0",
            "_view_name": "HTMLView",
            "description": "",
            "description_tooltip": null,
            "layout": "IPY_MODEL_ee2cd81825544f20af0d2350d52ad6b9",
            "placeholder": "​",
            "style": "IPY_MODEL_38be572e18734509ac8f2883bf46a27a",
            "value": "train-00000-of-00001.parquet: 100%"
          }
        },
        "ca956e9ee7bd46868adda0cc17f16c12": {
          "model_module": "@jupyter-widgets/base",
          "model_module_version": "1.2.0",
          "model_name": "LayoutModel",
          "state": {
            "_model_module": "@jupyter-widgets/base",
            "_model_module_version": "1.2.0",
            "_model_name": "LayoutModel",
            "_view_count": null,
            "_view_module": "@jupyter-widgets/base",
            "_view_module_version": "1.2.0",
            "_view_name": "LayoutView",
            "align_content": null,
            "align_items": null,
            "align_self": null,
            "border": null,
            "bottom": null,
            "display": null,
            "flex": null,
            "flex_flow": null,
            "grid_area": null,
            "grid_auto_columns": null,
            "grid_auto_flow": null,
            "grid_auto_rows": null,
            "grid_column": null,
            "grid_gap": null,
            "grid_row": null,
            "grid_template_areas": null,
            "grid_template_columns": null,
            "grid_template_rows": null,
            "height": null,
            "justify_content": null,
            "justify_items": null,
            "left": null,
            "margin": null,
            "max_height": null,
            "max_width": null,
            "min_height": null,
            "min_width": null,
            "object_fit": null,
            "object_position": null,
            "order": null,
            "overflow": null,
            "overflow_x": null,
            "overflow_y": null,
            "padding": null,
            "right": null,
            "top": null,
            "visibility": null,
            "width": null
          }
        },
        "cb8351782cb84fff8389c4148f0a4e4e": {
          "model_module": "@jupyter-widgets/controls",
          "model_module_version": "1.5.0",
          "model_name": "HTMLModel",
          "state": {
            "_dom_classes": [],
            "_model_module": "@jupyter-widgets/controls",
            "_model_module_version": "1.5.0",
            "_model_name": "HTMLModel",
            "_view_count": null,
            "_view_module": "@jupyter-widgets/controls",
            "_view_module_version": "1.5.0",
            "_view_name": "HTMLView",
            "description": "",
            "description_tooltip": null,
            "layout": "IPY_MODEL_62e687b796c44adf9c78bf1db7a60250",
            "placeholder": "​",
            "style": "IPY_MODEL_261a924ec2934bb38a405081ddf89517",
            "value": " 412k/412k [00:00&lt;00:00, 10.5MB/s]"
          }
        },
        "ccc30458051c479aa7b9b05ad0f42459": {
          "model_module": "@jupyter-widgets/controls",
          "model_module_version": "1.5.0",
          "model_name": "DescriptionStyleModel",
          "state": {
            "_model_module": "@jupyter-widgets/controls",
            "_model_module_version": "1.5.0",
            "_model_name": "DescriptionStyleModel",
            "_view_count": null,
            "_view_module": "@jupyter-widgets/base",
            "_view_module_version": "1.2.0",
            "_view_name": "StyleView",
            "description_width": ""
          }
        },
        "d02b39c89bf64d1a8be019dae1f5e487": {
          "model_module": "@jupyter-widgets/base",
          "model_module_version": "1.2.0",
          "model_name": "LayoutModel",
          "state": {
            "_model_module": "@jupyter-widgets/base",
            "_model_module_version": "1.2.0",
            "_model_name": "LayoutModel",
            "_view_count": null,
            "_view_module": "@jupyter-widgets/base",
            "_view_module_version": "1.2.0",
            "_view_name": "LayoutView",
            "align_content": null,
            "align_items": null,
            "align_self": null,
            "border": null,
            "bottom": null,
            "display": null,
            "flex": null,
            "flex_flow": null,
            "grid_area": null,
            "grid_auto_columns": null,
            "grid_auto_flow": null,
            "grid_auto_rows": null,
            "grid_column": null,
            "grid_gap": null,
            "grid_row": null,
            "grid_template_areas": null,
            "grid_template_columns": null,
            "grid_template_rows": null,
            "height": null,
            "justify_content": null,
            "justify_items": null,
            "left": null,
            "margin": null,
            "max_height": null,
            "max_width": null,
            "min_height": null,
            "min_width": null,
            "object_fit": null,
            "object_position": null,
            "order": null,
            "overflow": null,
            "overflow_x": null,
            "overflow_y": null,
            "padding": null,
            "right": null,
            "top": null,
            "visibility": null,
            "width": null
          }
        },
        "d7c826c0dbab4d3aa99349b3cf01882c": {
          "model_module": "@jupyter-widgets/controls",
          "model_module_version": "1.5.0",
          "model_name": "DescriptionStyleModel",
          "state": {
            "_model_module": "@jupyter-widgets/controls",
            "_model_module_version": "1.5.0",
            "_model_name": "DescriptionStyleModel",
            "_view_count": null,
            "_view_module": "@jupyter-widgets/base",
            "_view_module_version": "1.2.0",
            "_view_name": "StyleView",
            "description_width": ""
          }
        },
        "d82aa0f63fba4e18b35f0c7d10eeee15": {
          "model_module": "@jupyter-widgets/controls",
          "model_module_version": "1.5.0",
          "model_name": "HTMLModel",
          "state": {
            "_dom_classes": [],
            "_model_module": "@jupyter-widgets/controls",
            "_model_module_version": "1.5.0",
            "_model_name": "HTMLModel",
            "_view_count": null,
            "_view_module": "@jupyter-widgets/controls",
            "_view_module_version": "1.5.0",
            "_view_name": "HTMLView",
            "description": "",
            "description_tooltip": null,
            "layout": "IPY_MODEL_36e6502b95e94d0393dc3956aa25171e",
            "placeholder": "​",
            "style": "IPY_MODEL_beb1d4de071a44b2af191403a6784680",
            "value": " 550152/550152 [00:00&lt;00:00, 1479886.55 examples/s]"
          }
        },
        "d959417105574a6d8e6423109805ef54": {
          "model_module": "@jupyter-widgets/base",
          "model_module_version": "1.2.0",
          "model_name": "LayoutModel",
          "state": {
            "_model_module": "@jupyter-widgets/base",
            "_model_module_version": "1.2.0",
            "_model_name": "LayoutModel",
            "_view_count": null,
            "_view_module": "@jupyter-widgets/base",
            "_view_module_version": "1.2.0",
            "_view_name": "LayoutView",
            "align_content": null,
            "align_items": null,
            "align_self": null,
            "border": null,
            "bottom": null,
            "display": null,
            "flex": null,
            "flex_flow": null,
            "grid_area": null,
            "grid_auto_columns": null,
            "grid_auto_flow": null,
            "grid_auto_rows": null,
            "grid_column": null,
            "grid_gap": null,
            "grid_row": null,
            "grid_template_areas": null,
            "grid_template_columns": null,
            "grid_template_rows": null,
            "height": null,
            "justify_content": null,
            "justify_items": null,
            "left": null,
            "margin": null,
            "max_height": null,
            "max_width": null,
            "min_height": null,
            "min_width": null,
            "object_fit": null,
            "object_position": null,
            "order": null,
            "overflow": null,
            "overflow_x": null,
            "overflow_y": null,
            "padding": null,
            "right": null,
            "top": null,
            "visibility": null,
            "width": null
          }
        },
        "db8faf5ff5024fca938c3314b277c8f3": {
          "model_module": "@jupyter-widgets/base",
          "model_module_version": "1.2.0",
          "model_name": "LayoutModel",
          "state": {
            "_model_module": "@jupyter-widgets/base",
            "_model_module_version": "1.2.0",
            "_model_name": "LayoutModel",
            "_view_count": null,
            "_view_module": "@jupyter-widgets/base",
            "_view_module_version": "1.2.0",
            "_view_name": "LayoutView",
            "align_content": null,
            "align_items": null,
            "align_self": null,
            "border": null,
            "bottom": null,
            "display": null,
            "flex": null,
            "flex_flow": null,
            "grid_area": null,
            "grid_auto_columns": null,
            "grid_auto_flow": null,
            "grid_auto_rows": null,
            "grid_column": null,
            "grid_gap": null,
            "grid_row": null,
            "grid_template_areas": null,
            "grid_template_columns": null,
            "grid_template_rows": null,
            "height": null,
            "justify_content": null,
            "justify_items": null,
            "left": null,
            "margin": null,
            "max_height": null,
            "max_width": null,
            "min_height": null,
            "min_width": null,
            "object_fit": null,
            "object_position": null,
            "order": null,
            "overflow": null,
            "overflow_x": null,
            "overflow_y": null,
            "padding": null,
            "right": null,
            "top": null,
            "visibility": null,
            "width": null
          }
        },
        "dd809ff0d4c748ad952a89a9f2b750df": {
          "model_module": "@jupyter-widgets/base",
          "model_module_version": "1.2.0",
          "model_name": "LayoutModel",
          "state": {
            "_model_module": "@jupyter-widgets/base",
            "_model_module_version": "1.2.0",
            "_model_name": "LayoutModel",
            "_view_count": null,
            "_view_module": "@jupyter-widgets/base",
            "_view_module_version": "1.2.0",
            "_view_name": "LayoutView",
            "align_content": null,
            "align_items": null,
            "align_self": null,
            "border": null,
            "bottom": null,
            "display": null,
            "flex": null,
            "flex_flow": null,
            "grid_area": null,
            "grid_auto_columns": null,
            "grid_auto_flow": null,
            "grid_auto_rows": null,
            "grid_column": null,
            "grid_gap": null,
            "grid_row": null,
            "grid_template_areas": null,
            "grid_template_columns": null,
            "grid_template_rows": null,
            "height": null,
            "justify_content": null,
            "justify_items": null,
            "left": null,
            "margin": null,
            "max_height": null,
            "max_width": null,
            "min_height": null,
            "min_width": null,
            "object_fit": null,
            "object_position": null,
            "order": null,
            "overflow": null,
            "overflow_x": null,
            "overflow_y": null,
            "padding": null,
            "right": null,
            "top": null,
            "visibility": null,
            "width": null
          }
        },
        "dddffca84d8448b89795e302f4d620d1": {
          "model_module": "@jupyter-widgets/controls",
          "model_module_version": "1.5.0",
          "model_name": "HBoxModel",
          "state": {
            "_dom_classes": [],
            "_model_module": "@jupyter-widgets/controls",
            "_model_module_version": "1.5.0",
            "_model_name": "HBoxModel",
            "_view_count": null,
            "_view_module": "@jupyter-widgets/controls",
            "_view_module_version": "1.5.0",
            "_view_name": "HBoxView",
            "box_style": "",
            "children": [
              "IPY_MODEL_0421b3f2c25148f1b2a2e85b6c041d19",
              "IPY_MODEL_92715c5f41a3451780c7ce0535f76400",
              "IPY_MODEL_53f6196803074243b898f0a83a42677c"
            ],
            "layout": "IPY_MODEL_e6cd47058da3458ab01098f40d609020"
          }
        },
        "e0b831d5bdcd412b89b20fd15dda013e": {
          "model_module": "@jupyter-widgets/controls",
          "model_module_version": "1.5.0",
          "model_name": "DescriptionStyleModel",
          "state": {
            "_model_module": "@jupyter-widgets/controls",
            "_model_module_version": "1.5.0",
            "_model_name": "DescriptionStyleModel",
            "_view_count": null,
            "_view_module": "@jupyter-widgets/base",
            "_view_module_version": "1.2.0",
            "_view_name": "StyleView",
            "description_width": ""
          }
        },
        "e4ae607d87e34cddaface6da924a43d9": {
          "model_module": "@jupyter-widgets/base",
          "model_module_version": "1.2.0",
          "model_name": "LayoutModel",
          "state": {
            "_model_module": "@jupyter-widgets/base",
            "_model_module_version": "1.2.0",
            "_model_name": "LayoutModel",
            "_view_count": null,
            "_view_module": "@jupyter-widgets/base",
            "_view_module_version": "1.2.0",
            "_view_name": "LayoutView",
            "align_content": null,
            "align_items": null,
            "align_self": null,
            "border": null,
            "bottom": null,
            "display": null,
            "flex": null,
            "flex_flow": null,
            "grid_area": null,
            "grid_auto_columns": null,
            "grid_auto_flow": null,
            "grid_auto_rows": null,
            "grid_column": null,
            "grid_gap": null,
            "grid_row": null,
            "grid_template_areas": null,
            "grid_template_columns": null,
            "grid_template_rows": null,
            "height": null,
            "justify_content": null,
            "justify_items": null,
            "left": null,
            "margin": null,
            "max_height": null,
            "max_width": null,
            "min_height": null,
            "min_width": null,
            "object_fit": null,
            "object_position": null,
            "order": null,
            "overflow": null,
            "overflow_x": null,
            "overflow_y": null,
            "padding": null,
            "right": null,
            "top": null,
            "visibility": null,
            "width": null
          }
        },
        "e6cd47058da3458ab01098f40d609020": {
          "model_module": "@jupyter-widgets/base",
          "model_module_version": "1.2.0",
          "model_name": "LayoutModel",
          "state": {
            "_model_module": "@jupyter-widgets/base",
            "_model_module_version": "1.2.0",
            "_model_name": "LayoutModel",
            "_view_count": null,
            "_view_module": "@jupyter-widgets/base",
            "_view_module_version": "1.2.0",
            "_view_name": "LayoutView",
            "align_content": null,
            "align_items": null,
            "align_self": null,
            "border": null,
            "bottom": null,
            "display": null,
            "flex": null,
            "flex_flow": null,
            "grid_area": null,
            "grid_auto_columns": null,
            "grid_auto_flow": null,
            "grid_auto_rows": null,
            "grid_column": null,
            "grid_gap": null,
            "grid_row": null,
            "grid_template_areas": null,
            "grid_template_columns": null,
            "grid_template_rows": null,
            "height": null,
            "justify_content": null,
            "justify_items": null,
            "left": null,
            "margin": null,
            "max_height": null,
            "max_width": null,
            "min_height": null,
            "min_width": null,
            "object_fit": null,
            "object_position": null,
            "order": null,
            "overflow": null,
            "overflow_x": null,
            "overflow_y": null,
            "padding": null,
            "right": null,
            "top": null,
            "visibility": null,
            "width": null
          }
        },
        "e771ebd4dfe34631b74dfbb0c790e5b7": {
          "model_module": "@jupyter-widgets/controls",
          "model_module_version": "1.5.0",
          "model_name": "HBoxModel",
          "state": {
            "_dom_classes": [],
            "_model_module": "@jupyter-widgets/controls",
            "_model_module_version": "1.5.0",
            "_model_name": "HBoxModel",
            "_view_count": null,
            "_view_module": "@jupyter-widgets/controls",
            "_view_module_version": "1.5.0",
            "_view_name": "HBoxView",
            "box_style": "",
            "children": [
              "IPY_MODEL_b0fee5d2def54b82aed15151ff3eee74",
              "IPY_MODEL_b21dbe4b0b3f4316a556a48023c7ef85",
              "IPY_MODEL_9e79da4e8e5146d99080c2cc7a82b74e"
            ],
            "layout": "IPY_MODEL_7e933f689bca4829a9947ac6496337f2"
          }
        },
        "ee2cd81825544f20af0d2350d52ad6b9": {
          "model_module": "@jupyter-widgets/base",
          "model_module_version": "1.2.0",
          "model_name": "LayoutModel",
          "state": {
            "_model_module": "@jupyter-widgets/base",
            "_model_module_version": "1.2.0",
            "_model_name": "LayoutModel",
            "_view_count": null,
            "_view_module": "@jupyter-widgets/base",
            "_view_module_version": "1.2.0",
            "_view_name": "LayoutView",
            "align_content": null,
            "align_items": null,
            "align_self": null,
            "border": null,
            "bottom": null,
            "display": null,
            "flex": null,
            "flex_flow": null,
            "grid_area": null,
            "grid_auto_columns": null,
            "grid_auto_flow": null,
            "grid_auto_rows": null,
            "grid_column": null,
            "grid_gap": null,
            "grid_row": null,
            "grid_template_areas": null,
            "grid_template_columns": null,
            "grid_template_rows": null,
            "height": null,
            "justify_content": null,
            "justify_items": null,
            "left": null,
            "margin": null,
            "max_height": null,
            "max_width": null,
            "min_height": null,
            "min_width": null,
            "object_fit": null,
            "object_position": null,
            "order": null,
            "overflow": null,
            "overflow_x": null,
            "overflow_y": null,
            "padding": null,
            "right": null,
            "top": null,
            "visibility": null,
            "width": null
          }
        },
        "f00c1664f1c54002aa7717005e41964a": {
          "model_module": "@jupyter-widgets/controls",
          "model_module_version": "1.5.0",
          "model_name": "HTMLModel",
          "state": {
            "_dom_classes": [],
            "_model_module": "@jupyter-widgets/controls",
            "_model_module_version": "1.5.0",
            "_model_name": "HTMLModel",
            "_view_count": null,
            "_view_module": "@jupyter-widgets/controls",
            "_view_module_version": "1.5.0",
            "_view_name": "HTMLView",
            "description": "",
            "description_tooltip": null,
            "layout": "IPY_MODEL_d959417105574a6d8e6423109805ef54",
            "placeholder": "​",
            "style": "IPY_MODEL_1743c389a8354ccbbd0f9553ff88c987",
            "value": "validation-00000-of-00001.parquet: 100%"
          }
        },
        "f1a0455550124afcbfd455e0fcf7bfec": {
          "model_module": "@jupyter-widgets/controls",
          "model_module_version": "1.5.0",
          "model_name": "FloatProgressModel",
          "state": {
            "_dom_classes": [],
            "_model_module": "@jupyter-widgets/controls",
            "_model_module_version": "1.5.0",
            "_model_name": "FloatProgressModel",
            "_view_count": null,
            "_view_module": "@jupyter-widgets/controls",
            "_view_module_version": "1.5.0",
            "_view_name": "ProgressView",
            "bar_style": "success",
            "description": "",
            "description_tooltip": null,
            "layout": "IPY_MODEL_db8faf5ff5024fca938c3314b277c8f3",
            "max": 10000,
            "min": 0,
            "orientation": "horizontal",
            "style": "IPY_MODEL_59a1fe5a2d6a48e7b488bae1f938b02a",
            "value": 10000
          }
        },
        "f768aebecf6249f9b8dea2c16f591f99": {
          "model_module": "@jupyter-widgets/controls",
          "model_module_version": "1.5.0",
          "model_name": "DescriptionStyleModel",
          "state": {
            "_model_module": "@jupyter-widgets/controls",
            "_model_module_version": "1.5.0",
            "_model_name": "DescriptionStyleModel",
            "_view_count": null,
            "_view_module": "@jupyter-widgets/base",
            "_view_module_version": "1.2.0",
            "_view_name": "StyleView",
            "description_width": ""
          }
        },
        "fc336c5173e64fb582331d9514f2a95c": {
          "model_module": "@jupyter-widgets/base",
          "model_module_version": "1.2.0",
          "model_name": "LayoutModel",
          "state": {
            "_model_module": "@jupyter-widgets/base",
            "_model_module_version": "1.2.0",
            "_model_name": "LayoutModel",
            "_view_count": null,
            "_view_module": "@jupyter-widgets/base",
            "_view_module_version": "1.2.0",
            "_view_name": "LayoutView",
            "align_content": null,
            "align_items": null,
            "align_self": null,
            "border": null,
            "bottom": null,
            "display": null,
            "flex": null,
            "flex_flow": null,
            "grid_area": null,
            "grid_auto_columns": null,
            "grid_auto_flow": null,
            "grid_auto_rows": null,
            "grid_column": null,
            "grid_gap": null,
            "grid_row": null,
            "grid_template_areas": null,
            "grid_template_columns": null,
            "grid_template_rows": null,
            "height": null,
            "justify_content": null,
            "justify_items": null,
            "left": null,
            "margin": null,
            "max_height": null,
            "max_width": null,
            "min_height": null,
            "min_width": null,
            "object_fit": null,
            "object_position": null,
            "order": null,
            "overflow": null,
            "overflow_x": null,
            "overflow_y": null,
            "padding": null,
            "right": null,
            "top": null,
            "visibility": null,
            "width": null
          }
        },
        "ffeaedfedcbd40b2865073f3b99f44bd": {
          "model_module": "@jupyter-widgets/base",
          "model_module_version": "1.2.0",
          "model_name": "LayoutModel",
          "state": {
            "_model_module": "@jupyter-widgets/base",
            "_model_module_version": "1.2.0",
            "_model_name": "LayoutModel",
            "_view_count": null,
            "_view_module": "@jupyter-widgets/base",
            "_view_module_version": "1.2.0",
            "_view_name": "LayoutView",
            "align_content": null,
            "align_items": null,
            "align_self": null,
            "border": null,
            "bottom": null,
            "display": null,
            "flex": null,
            "flex_flow": null,
            "grid_area": null,
            "grid_auto_columns": null,
            "grid_auto_flow": null,
            "grid_auto_rows": null,
            "grid_column": null,
            "grid_gap": null,
            "grid_row": null,
            "grid_template_areas": null,
            "grid_template_columns": null,
            "grid_template_rows": null,
            "height": null,
            "justify_content": null,
            "justify_items": null,
            "left": null,
            "margin": null,
            "max_height": null,
            "max_width": null,
            "min_height": null,
            "min_width": null,
            "object_fit": null,
            "object_position": null,
            "order": null,
            "overflow": null,
            "overflow_x": null,
            "overflow_y": null,
            "padding": null,
            "right": null,
            "top": null,
            "visibility": null,
            "width": null
          }
        }
      }
    }
  },
  "nbformat": 4,
  "nbformat_minor": 0
}
